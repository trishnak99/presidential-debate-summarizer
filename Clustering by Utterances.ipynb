{
 "cells": [
  {
   "cell_type": "code",
   "execution_count": 1,
   "metadata": {},
   "outputs": [],
   "source": [
    "import numpy as np\n",
    "import pandas as pd\n",
    "import re\n",
    "import sys\n",
    "from sklearn.cluster import KMeans\n",
    "from sklearn.feature_extraction.text import TfidfVectorizer\n",
    "from sklearn.preprocessing import normalize"
   ]
  },
  {
   "cell_type": "code",
   "execution_count": 2,
   "metadata": {},
   "outputs": [
    {
     "data": {
      "text/html": [
       "<div>\n",
       "<style scoped>\n",
       "    .dataframe tbody tr th:only-of-type {\n",
       "        vertical-align: middle;\n",
       "    }\n",
       "\n",
       "    .dataframe tbody tr th {\n",
       "        vertical-align: top;\n",
       "    }\n",
       "\n",
       "    .dataframe thead th {\n",
       "        text-align: right;\n",
       "    }\n",
       "</style>\n",
       "<table border=\"1\" class=\"dataframe\">\n",
       "  <thead>\n",
       "    <tr style=\"text-align: right;\">\n",
       "      <th></th>\n",
       "      <th>speaker</th>\n",
       "      <th>text</th>\n",
       "      <th>cluster tokens</th>\n",
       "    </tr>\n",
       "  </thead>\n",
       "  <tbody>\n",
       "    <tr>\n",
       "      <th>0</th>\n",
       "      <td>Wallace</td>\n",
       "      <td>Good evening from the Health Education Campus ...</td>\n",
       "      <td>good evening health education campus case west...</td>\n",
       "    </tr>\n",
       "    <tr>\n",
       "      <th>1</th>\n",
       "      <td>Wallace</td>\n",
       "      <td>This debate is being conducted under health an...</td>\n",
       "      <td>debate conduct health safety protocol design c...</td>\n",
       "    </tr>\n",
       "    <tr>\n",
       "      <th>2</th>\n",
       "      <td>Biden</td>\n",
       "      <td>How you doing, man?</td>\n",
       "      <td>man</td>\n",
       "    </tr>\n",
       "    <tr>\n",
       "      <th>3</th>\n",
       "      <td>Trump</td>\n",
       "      <td>How are you doing?</td>\n",
       "      <td>NaN</td>\n",
       "    </tr>\n",
       "    <tr>\n",
       "      <th>4</th>\n",
       "      <td>Biden</td>\n",
       "      <td>I'm well.</td>\n",
       "      <td>NaN</td>\n",
       "    </tr>\n",
       "    <tr>\n",
       "      <th>...</th>\n",
       "      <td>...</td>\n",
       "      <td>...</td>\n",
       "      <td>...</td>\n",
       "    </tr>\n",
       "    <tr>\n",
       "      <th>784</th>\n",
       "      <td>Wallace</td>\n",
       "      <td>Gentlemen, just say that's the end of it  . Th...</td>\n",
       "      <td>gentleman end end debate</td>\n",
       "    </tr>\n",
       "    <tr>\n",
       "      <th>785</th>\n",
       "      <td>Trump</td>\n",
       "      <td>I want to see an honest ballot count.</td>\n",
       "      <td>want honest ballot count</td>\n",
       "    </tr>\n",
       "    <tr>\n",
       "      <th>786</th>\n",
       "      <td>Wallace</td>\n",
       "      <td>We're going to leave it there-</td>\n",
       "      <td>go leave there</td>\n",
       "    </tr>\n",
       "    <tr>\n",
       "      <th>787</th>\n",
       "      <td>Trump</td>\n",
       "      <td>And I think he does too-</td>\n",
       "      <td>think too</td>\n",
       "    </tr>\n",
       "    <tr>\n",
       "      <th>788</th>\n",
       "      <td>Wallace</td>\n",
       "      <td>... to be continued in more debates as we go o...</td>\n",
       "      <td>continue debate president trump vice president...</td>\n",
       "    </tr>\n",
       "  </tbody>\n",
       "</table>\n",
       "<p>789 rows × 3 columns</p>\n",
       "</div>"
      ],
      "text/plain": [
       "     speaker                                               text  \\\n",
       "0    Wallace  Good evening from the Health Education Campus ...   \n",
       "1    Wallace  This debate is being conducted under health an...   \n",
       "2      Biden                                How you doing, man?   \n",
       "3      Trump                                 How are you doing?   \n",
       "4      Biden                                          I'm well.   \n",
       "..       ...                                                ...   \n",
       "784  Wallace  Gentlemen, just say that's the end of it  . Th...   \n",
       "785    Trump              I want to see an honest ballot count.   \n",
       "786  Wallace                     We're going to leave it there-   \n",
       "787    Trump                           And I think he does too-   \n",
       "788  Wallace  ... to be continued in more debates as we go o...   \n",
       "\n",
       "                                        cluster tokens  \n",
       "0    good evening health education campus case west...  \n",
       "1    debate conduct health safety protocol design c...  \n",
       "2                                                  man  \n",
       "3                                                  NaN  \n",
       "4                                                  NaN  \n",
       "..                                                 ...  \n",
       "784                           gentleman end end debate  \n",
       "785                           want honest ballot count  \n",
       "786                                     go leave there  \n",
       "787                                          think too  \n",
       "788  continue debate president trump vice president...  \n",
       "\n",
       "[789 rows x 3 columns]"
      ]
     },
     "execution_count": 2,
     "metadata": {},
     "output_type": "execute_result"
    }
   ],
   "source": [
    "df = pd.read_csv('data/preprocessed/preprocessed.csv', index_col=0)\n",
    "pd.options.display.max_colwidth = 50\n",
    "df"
   ]
  },
  {
   "cell_type": "code",
   "execution_count": 3,
   "metadata": {},
   "outputs": [],
   "source": [
    "trump_df = df[df['speaker'] == 'Trump' ]\n",
    "biden_df = df[df['speaker'] == 'Biden']\n",
    "\n",
    "trump_df = trump_df.dropna()\n",
    "biden_df = biden_df.dropna()"
   ]
  },
  {
   "cell_type": "code",
   "execution_count": 4,
   "metadata": {},
   "outputs": [
    {
     "data": {
      "text/html": [
       "<div>\n",
       "<style scoped>\n",
       "    .dataframe tbody tr th:only-of-type {\n",
       "        vertical-align: middle;\n",
       "    }\n",
       "\n",
       "    .dataframe tbody tr th {\n",
       "        vertical-align: top;\n",
       "    }\n",
       "\n",
       "    .dataframe thead th {\n",
       "        text-align: right;\n",
       "    }\n",
       "</style>\n",
       "<table border=\"1\" class=\"dataframe\">\n",
       "  <thead>\n",
       "    <tr style=\"text-align: right;\">\n",
       "      <th></th>\n",
       "      <th>speaker</th>\n",
       "      <th>text</th>\n",
       "      <th>cluster tokens</th>\n",
       "    </tr>\n",
       "  </thead>\n",
       "  <tbody>\n",
       "    <tr>\n",
       "      <th>6</th>\n",
       "      <td>Trump</td>\n",
       "      <td>Thank you very much, Chris. I will tell you ve...</td>\n",
       "      <td>thank chris tell simply win election election ...</td>\n",
       "    </tr>\n",
       "    <tr>\n",
       "      <th>7</th>\n",
       "      <td>Trump</td>\n",
       "      <td>And we won the election and therefore we have ...</td>\n",
       "      <td>win election right choose people knowingly way...</td>\n",
       "    </tr>\n",
       "    <tr>\n",
       "      <th>10</th>\n",
       "      <td>Trump</td>\n",
       "      <td>Thank you, Joe.</td>\n",
       "      <td>thank joe</td>\n",
       "    </tr>\n",
       "    <tr>\n",
       "      <th>14</th>\n",
       "      <td>Trump</td>\n",
       "      <td>There aren't a hundred million people with pre...</td>\n",
       "      <td>million people pre existing condition far conc...</td>\n",
       "    </tr>\n",
       "    <tr>\n",
       "      <th>16</th>\n",
       "      <td>Trump</td>\n",
       "      <td>During that period of time, during that period...</td>\n",
       "      <td>period time period time opening elect year ele...</td>\n",
       "    </tr>\n",
       "    <tr>\n",
       "      <th>...</th>\n",
       "      <td>...</td>\n",
       "      <td>...</td>\n",
       "      <td>...</td>\n",
       "    </tr>\n",
       "    <tr>\n",
       "      <th>777</th>\n",
       "      <td>Trump</td>\n",
       "      <td>You think that's good?</td>\n",
       "      <td>think good</td>\n",
       "    </tr>\n",
       "    <tr>\n",
       "      <th>780</th>\n",
       "      <td>Trump</td>\n",
       "      <td>It's already been established. Take a look at ...</td>\n",
       "      <td>establish look carolyn maloney race</td>\n",
       "    </tr>\n",
       "    <tr>\n",
       "      <th>783</th>\n",
       "      <td>Trump</td>\n",
       "      <td>I want to see an honest ballot cut-</td>\n",
       "      <td>want honest ballot cut</td>\n",
       "    </tr>\n",
       "    <tr>\n",
       "      <th>785</th>\n",
       "      <td>Trump</td>\n",
       "      <td>I want to see an honest ballot count.</td>\n",
       "      <td>want honest ballot count</td>\n",
       "    </tr>\n",
       "    <tr>\n",
       "      <th>787</th>\n",
       "      <td>Trump</td>\n",
       "      <td>And I think he does too-</td>\n",
       "      <td>think too</td>\n",
       "    </tr>\n",
       "  </tbody>\n",
       "</table>\n",
       "<p>294 rows × 3 columns</p>\n",
       "</div>"
      ],
      "text/plain": [
       "    speaker                                               text  \\\n",
       "6     Trump  Thank you very much, Chris. I will tell you ve...   \n",
       "7     Trump  And we won the election and therefore we have ...   \n",
       "10    Trump                                    Thank you, Joe.   \n",
       "14    Trump  There aren't a hundred million people with pre...   \n",
       "16    Trump  During that period of time, during that period...   \n",
       "..      ...                                                ...   \n",
       "777   Trump                             You think that's good?   \n",
       "780   Trump  It's already been established. Take a look at ...   \n",
       "783   Trump                I want to see an honest ballot cut-   \n",
       "785   Trump              I want to see an honest ballot count.   \n",
       "787   Trump                           And I think he does too-   \n",
       "\n",
       "                                        cluster tokens  \n",
       "6    thank chris tell simply win election election ...  \n",
       "7    win election right choose people knowingly way...  \n",
       "10                                           thank joe  \n",
       "14   million people pre existing condition far conc...  \n",
       "16   period time period time opening elect year ele...  \n",
       "..                                                 ...  \n",
       "777                                         think good  \n",
       "780                establish look carolyn maloney race  \n",
       "783                             want honest ballot cut  \n",
       "785                           want honest ballot count  \n",
       "787                                          think too  \n",
       "\n",
       "[294 rows x 3 columns]"
      ]
     },
     "execution_count": 4,
     "metadata": {},
     "output_type": "execute_result"
    }
   ],
   "source": [
    "trump_df"
   ]
  },
  {
   "cell_type": "code",
   "execution_count": 5,
   "metadata": {},
   "outputs": [
    {
     "data": {
      "text/html": [
       "<div>\n",
       "<style scoped>\n",
       "    .dataframe tbody tr th:only-of-type {\n",
       "        vertical-align: middle;\n",
       "    }\n",
       "\n",
       "    .dataframe tbody tr th {\n",
       "        vertical-align: top;\n",
       "    }\n",
       "\n",
       "    .dataframe thead th {\n",
       "        text-align: right;\n",
       "    }\n",
       "</style>\n",
       "<table border=\"1\" class=\"dataframe\">\n",
       "  <thead>\n",
       "    <tr style=\"text-align: right;\">\n",
       "      <th></th>\n",
       "      <th>speaker</th>\n",
       "      <th>text</th>\n",
       "      <th>cluster tokens</th>\n",
       "    </tr>\n",
       "  </thead>\n",
       "  <tbody>\n",
       "    <tr>\n",
       "      <th>2</th>\n",
       "      <td>Biden</td>\n",
       "      <td>How you doing, man?</td>\n",
       "      <td>man</td>\n",
       "    </tr>\n",
       "    <tr>\n",
       "      <th>9</th>\n",
       "      <td>Biden</td>\n",
       "      <td>Well, first of all, thank you for doing this a...</td>\n",
       "      <td>thank look forward mr president</td>\n",
       "    </tr>\n",
       "    <tr>\n",
       "      <th>11</th>\n",
       "      <td>Biden</td>\n",
       "      <td>The American people have a right to have a say...</td>\n",
       "      <td>american people right supreme court nominee oc...</td>\n",
       "    </tr>\n",
       "    <tr>\n",
       "      <th>12</th>\n",
       "      <td>Biden</td>\n",
       "      <td>Now, what's at stake here is the President's m...</td>\n",
       "      <td>stake president clear want rid affordable care...</td>\n",
       "    </tr>\n",
       "    <tr>\n",
       "      <th>13</th>\n",
       "      <td>Biden</td>\n",
       "      <td>And that ended when we, in fact, passed the Af...</td>\n",
       "      <td>end fact pass affordable care act million peop...</td>\n",
       "    </tr>\n",
       "    <tr>\n",
       "      <th>...</th>\n",
       "      <td>...</td>\n",
       "      <td>...</td>\n",
       "      <td>...</td>\n",
       "    </tr>\n",
       "    <tr>\n",
       "      <th>751</th>\n",
       "      <td>Biden</td>\n",
       "      <td>Five states have had mail-in ballots for the l...</td>\n",
       "      <td>state mail ballot decade include republican st...</td>\n",
       "    </tr>\n",
       "    <tr>\n",
       "      <th>756</th>\n",
       "      <td>Biden</td>\n",
       "      <td>I am concerned that any court would settle thi...</td>\n",
       "      <td>concern court settle deal ballot fill suppose ...</td>\n",
       "    </tr>\n",
       "    <tr>\n",
       "      <th>761</th>\n",
       "      <td>Biden</td>\n",
       "      <td>Mail service delivers   185 million pieces of ...</td>\n",
       "      <td>mail service deliver million piece mail day</td>\n",
       "    </tr>\n",
       "    <tr>\n",
       "      <th>779</th>\n",
       "      <td>Biden</td>\n",
       "      <td>Yes. And here's the deal. We count the ballots...</td>\n",
       "      <td>yes deal count ballot point ballot state open ...</td>\n",
       "    </tr>\n",
       "    <tr>\n",
       "      <th>782</th>\n",
       "      <td>Biden</td>\n",
       "      <td>He has no idea what he's talking about. Here's...</td>\n",
       "      <td>idea talk deal fact accept know winner declare...</td>\n",
       "    </tr>\n",
       "  </tbody>\n",
       "</table>\n",
       "<p>234 rows × 3 columns</p>\n",
       "</div>"
      ],
      "text/plain": [
       "    speaker                                               text  \\\n",
       "2     Biden                                How you doing, man?   \n",
       "9     Biden  Well, first of all, thank you for doing this a...   \n",
       "11    Biden  The American people have a right to have a say...   \n",
       "12    Biden  Now, what's at stake here is the President's m...   \n",
       "13    Biden  And that ended when we, in fact, passed the Af...   \n",
       "..      ...                                                ...   \n",
       "751   Biden  Five states have had mail-in ballots for the l...   \n",
       "756   Biden  I am concerned that any court would settle thi...   \n",
       "761   Biden  Mail service delivers   185 million pieces of ...   \n",
       "779   Biden  Yes. And here's the deal. We count the ballots...   \n",
       "782   Biden  He has no idea what he's talking about. Here's...   \n",
       "\n",
       "                                        cluster tokens  \n",
       "2                                                  man  \n",
       "9                      thank look forward mr president  \n",
       "11   american people right supreme court nominee oc...  \n",
       "12   stake president clear want rid affordable care...  \n",
       "13   end fact pass affordable care act million peop...  \n",
       "..                                                 ...  \n",
       "751  state mail ballot decade include republican st...  \n",
       "756  concern court settle deal ballot fill suppose ...  \n",
       "761        mail service deliver million piece mail day  \n",
       "779  yes deal count ballot point ballot state open ...  \n",
       "782  idea talk deal fact accept know winner declare...  \n",
       "\n",
       "[234 rows x 3 columns]"
      ]
     },
     "execution_count": 5,
     "metadata": {},
     "output_type": "execute_result"
    }
   ],
   "source": [
    "biden_df"
   ]
  },
  {
   "cell_type": "markdown",
   "metadata": {},
   "source": [
    "## Baseline Summaries"
   ]
  },
  {
   "cell_type": "markdown",
   "metadata": {},
   "source": [
    "## 1. Trump"
   ]
  },
  {
   "cell_type": "code",
   "execution_count": 10,
   "metadata": {},
   "outputs": [
    {
     "name": "stdout",
     "output_type": "stream",
     "text": [
      "I don't think you have any law enforcement. You can't even say the word law enforcement. Because if you say those words, you're going to lose all of your radical left supporters. And why aren't you saying those words, Joe? Why don't you say the words law enforcement? Because you know what? If called us in Portland, we would put out that fire in a half an hour. But they won't do it, because they're run by radical left Democrats. If you look at Chicago, if you look at any place you want to look, Seattle, they heard we were coming in the following day and they put up their hands and we got back Seattle. Minneapolis, we got it back, Joe, because we believe in law and order, but you don't. The top 10 cities and just about the top 40 cities are run by Democrats, and in many cases radical left. And they've got you wrapped around their finger, Joe, to a point where you don't want to say anything about law and order. And I'll tell you what, the people of this country want and demand law and order and you're afraid to even say it. And by the way, there was unity going to happen. People were calling me for the first time in years, they were calling and they were saying it's time maybe and then what happened? We got hit. But now we're building it back up again. A rebuilding of the military, including Space Force and all of the other things. A fixing of the VA which was a mess under him, 308,000 people died because they didn't have proper health care. It was a mess. And we now got a 91% approval rating at the VA, our vets. We take care of our vets. But we've rebuilt our military. And I'll tell you something, some people say maybe the most important by the end of the first term I'll have approximately 300 Federal judges and Court of Appeals judges, 300 and hopefully three great Supreme Court judges, justices that is a record the likes of which very few people and one of the reasons I'll have so many judges because President Obama and him left me 128 judges to fill. So you did that and they call you a super predator and I'm letting people out of jail now, that you have treated the African-American population community, you have treated the black community about as bad as anybody in this country. You did the 1990... And that's why, if you look at the polls, I'm doing better than any Republican has done in a long time, because they saw what you did. You call them super predators, and you've called them worse than that. Because you look back at your testimony over the years, you've called them a lot worse than that. As far as the church is concerned and as far as the generals are concerned, we just got the support of 250 military leaders and generals, total support. Law enforcement, almost every law enforcement group in the United States. I have Florida. I have Texas. I have Ohio. I have every... Excuse me, Portland, the sheriff just came out today and he said, I support President Trump. I think a lot of things do, but I think to an extent, yes. I think to an extent, yes, but I also think we have to do better management of our forest. Every year I get the call. California's burning, California's burning. If that was cleaned, if that were, if you had forest management, good forest management, you wouldn't be getting those calls. In Europe, they live they're forest cities. They call forest cities. They maintain their forest. They manage their forest. I was with the head of a major country, it's a forest city. He said, Sir, we have trees that are far more, they ignite much easier than California. There shouldn't be that problem. I spoke with the Governor about it. I'm getting along very well with the governor. But I said, At some point you can't every year have hundreds of thousands of acres of land just burned to the ground. That's burning down because of a lack of management. He knew about it too. So don't tell me about a free transition. As far as the ballots are concerned, it's a disaster. A solicited ballot, okay, solicited, is okay. You're soliciting. You're asking. They send it back. You send it back. I did that. If you have an unsolicited... They're sending millions of ballots all over the country. There's fraud. They found them in creeks. They found some, just happened to have the name Trump just the other day in a wastepaper basket. They're being sent all over the place. They sent two in a Democrat area. They sent out a thousand ballots. Everybody got two ballots. This is going to be a fraud like you've never seen. The other thing, it's nice. On November 3rd, you're watching, and you see who won the election. And I think we're going to do well because people are really happy with the job we've done. Thank you very much, Chris. I will tell you very simply. We won the election. Elections have consequences. We have the Senate, we have the White House, and we have a phenomenal nominee respected by all. Top, top academic, good in every way. Good in every way. In fact, some of her biggest endorsers are very liberal people from Notre Dame and other places. So I think she's going to be fantastic. We have plenty of time. Even if we did it after the election itself. I have a lot of time after the election, as you know. So I think that she will be outstanding. She's going to be as good as anybody that has served on that court. We really feel that. We have a professor at Notre Dame, highly respected by all, said she's the single greatest student he's ever had. He's been a professor for a long time at a great school.\n"
     ]
    }
   ],
   "source": [
    "trump_utterances = trump_df.text.tolist()\n",
    "trump_utterances.sort(key=len, reverse=True)\n",
    "\n",
    "trump_baseline = ''\n",
    "for utterance in trump_utterances[:6]:\n",
    "#     print(utterance+'\\n')\n",
    "    trump_baseline += ' ' + utterance\n",
    "    \n",
    "trump_baseline = trump_baseline.strip()\n",
    "print(trump_baseline)"
   ]
  },
  {
   "cell_type": "markdown",
   "metadata": {},
   "source": [
    "## 2. Biden"
   ]
  },
  {
   "cell_type": "code",
   "execution_count": 12,
   "metadata": {},
   "outputs": [
    {
     "name": "stdout",
     "output_type": "stream",
     "text": [
      "Gas and oil because the heat will not be going out. There's so many things that we can do now to create thousands and thousands of jobs. We can get to net zero, in terms of energy production, by 2035. Not only not costing people jobs, creating jobs, creating millions of good-paying jobs. Not 15 bucks an hour, but prevailing wage, by having a new infrastructure that in fact, is green. And the first thing I will do, I will rejoin the Paris Accord. I will join the Paris Accord because with us out of it, look what's happening. It's all falling apart. And talk about someone who has no relationship with foreign policy. The rainforests of Brazil are being torn down, are being ripped down. More carbon is absorbed in that rainforest than every bit of carbon that's emitted in the United States. Instead of doing something about that, I would be gathering up and making sure we had the countries of the world coming up with $20 billion, and say, Here's $20 billion. Stop tearing down the forest. And If you don't, then you're going to have significant economic consequences. Prepare to let people vote. They should go to iwillvote.com, decide how they're going to vote, when they're going to vote, and what means by which they're going to vote. His own Homeland Security director, and as well as the FBI director, says that there is no evidence at all that mail-in ballots are a source of being manipulated and cheating. They said that. The fact is that there are going to be millions of people because of COVID that are going to be voting by mail-in ballots like he does, by the way. He sits behind the Resolute Desk and sends his ballot to Florida, number one. Number two, we're going to make sure that those people who want to vote in person are able to vote because there are enough poll watchers are there to make sure they can socially distance. The polls are open on time, and the polls stay open until the votes are counted. And this is all about trying to dissuade people from voting because he's trying to scare people into thinking that it's not going to be legitimate. He's absolutely wrong, number one. Number two, if in fact, during our administration in the recovery act, I was in charge able to bring down the cost of renewable energy to cheaper than are as cheap as coal and gas and oil. Nobody's going to build another coal fired plant in America. No one's going to build another oil fire plant in America. They're going to move to renewable energy. Number one, number two, we're going to make sure that we are able to take the federal fleet and turn it into a fleet that's run on their electric vehicles. Making sure that we can do that, we're going to put 500,000 charging stations in all of the highways that we're going to be building in the future. We're going to build a economy that in fact is going to provide for the ability of us to take 4 million buildings and make sure that they in fact are weatherized in a way that in fact will they'll emit significantly less gas and oil because the heat will not be going out. There's so many things that we can do... Show up and vote. You will determine the outcome of this election. Vote, vote, vote. If you're able to vote early in your state, vote early. If you're able to vote in person, vote in person. Vote whatever way is the best way for you, because you will... He cannot stop you from being able to determine the outcome of this election. And in terms of whether or not... When the votes are counted and they're all counted, that will be accepted. If I win, that will be accepted. If I lose, that'll be accepted. But by the way, if in fact he says, he's not sure what he's going to accept. Well, let me tell you something, it doesn't matter, because if we get the votes, it's going to be all over. He's going to go. He can't stay in power. It won't happen. It won't happen, so vote. Just make sure you understand, you have it in your control to determine what this country is going to look like the next four years. Is it going to change, or are you going to get four more years of these lies? The fact is that there is racial insensitivity. People have to be made aware of what other people feel like, what insults them, what is demeaning to them. It's important people know. Many people don't want to hurt other people's feelings, but it makes a big difference. It makes a gigantic difference in the way a child is able to grow up and have a sense of self-esteem. It's a little bit like how this guy and his friends look down on so many people. They look down their nose on people like Irish Catholics, like me, who grow up in Scranton. They look down on people who don't have money. They look down on people who are of a different faith. They looked down on people who are a different color. In fact, we're all Americans. The only way we're going to bring this country together is bring everybody together. There's nothing we cannot do, if we do it together. We can take this on and we can defeat racism in American. Now, what's at stake here is the President's made it clear, he wants to get rid of the Affordable Care Act. He's been running on that, he ran on that and he's been governing on that. He's in the Supreme Court right now trying to get rid of the Affordable Care Act, which will strip 20 million people from having health insurance now, if it goes into court. And the justice, I'm not opposed to the justice, she seems like a very fine person. But she's written, before she went in the bench, which is her right, that she thinks that the Affordable Care Act is not Constitutional. The other thing that's on the court, and if it's struck down, what happens? Women's rights are fundamentally changed. Once again, a woman could pay more money because she has a pre-existing condition of pregnancy. They're able to charge women more for the same exact procedure a man gets.\n"
     ]
    }
   ],
   "source": [
    "biden_utterances = biden_df.text.tolist()\n",
    "biden_utterances.sort(key=len, reverse=True)\n",
    "\n",
    "biden_baseline = ''\n",
    "for utterance in biden_utterances[:6]:\n",
    "#     print(utterance+'\\n')\n",
    "    biden_baseline += ' ' + utterance\n",
    "    \n",
    "biden_baseline = biden_baseline.strip()\n",
    "print(biden_baseline)"
   ]
  },
  {
   "cell_type": "code",
   "execution_count": 13,
   "metadata": {},
   "outputs": [],
   "source": [
    "trump_vectorizer = TfidfVectorizer(\n",
    "#     min_df = 2,\n",
    "#     max_df = 0.95,\n",
    "    max_features = 5000,\n",
    "    stop_words = 'english'\n",
    ")\n",
    "\n",
    "tv = trump_vectorizer.fit_transform(trump_df[\"cluster tokens\"])\n",
    "\n",
    "# # sort features by idf score and get top n features\n",
    "# sorted_indices = np.argsort(trump_vectorizer.idf_)[::-1]\n",
    "# features = trump_vectorizer.get_feature_names()\n",
    "# top_n = 500\n",
    "# trump_features = [features[i] for i in sorted_indices[:top_n]]\n",
    "# print(trump_features)"
   ]
  },
  {
   "cell_type": "code",
   "execution_count": 14,
   "metadata": {},
   "outputs": [
    {
     "name": "stdout",
     "output_type": "stream",
     "text": [
      "[[0.         0.         0.         ... 0.         0.         0.        ]\n",
      " [0.         0.         0.         ... 0.         0.         0.        ]\n",
      " [0.         0.         0.         ... 0.         0.         0.        ]\n",
      " ...\n",
      " [0.         0.         0.         ... 0.         0.         0.        ]\n",
      " [0.         0.         0.         ... 0.13099507 0.         0.        ]\n",
      " [0.         0.         0.         ... 0.         0.         0.        ]]\n"
     ]
    }
   ],
   "source": [
    "biden_vectorizer = TfidfVectorizer(\n",
    "#     min_df = 5,\n",
    "#     max_df = 0.95,\n",
    "    max_features = 5000,\n",
    "    stop_words = 'english'\n",
    ")\n",
    "bv = biden_vectorizer.fit_transform(biden_df[\"cluster tokens\"])\n",
    "print(bv.toarray())\n",
    "\n",
    "# sort features by idf score and get top n features\n",
    "# sorted_indices = np.argsort(biden_vectorizer.idf_)[::-1]\n",
    "# features = biden_vectorizer.get_feature_names()\n",
    "# top_n = 500\n",
    "# biden_features = [features[i] for i in sorted_indices[:top_n]]\n",
    "# print(biden_features)"
   ]
  },
  {
   "cell_type": "markdown",
   "metadata": {},
   "source": [
    "## K means Clustering"
   ]
  },
  {
   "cell_type": "code",
   "execution_count": 15,
   "metadata": {},
   "outputs": [],
   "source": [
    "k = 6\n",
    "pd.options.display.max_colwidth = 100\n",
    "def get_top_keywords(data, clusters, features, n_terms):\n",
    "    df = pd.DataFrame(data.todense()).groupby(clusters).mean()\n",
    "    keywords = []\n",
    "    \n",
    "    for i,r in df.iterrows():\n",
    "        keywords.append(','.join([features[t] for t in np.argsort(r)[-n_terms:]]))\n",
    "        \n",
    "    return keywords"
   ]
  },
  {
   "cell_type": "markdown",
   "metadata": {},
   "source": [
    "### 1. Trump"
   ]
  },
  {
   "cell_type": "code",
   "execution_count": 16,
   "metadata": {},
   "outputs": [
    {
     "name": "stdout",
     "output_type": "stream",
     "text": [
      "Trump clusters\n",
      "\n",
      "Cluster 0\n",
      "talk,excuse,okay,true,left,run,chris,right,want,say\n",
      "\n",
      "Cluster 1\n",
      "mayor,talk,yes,pay,son,joe,moscow,half,dollar,million\n",
      "\n",
      "Cluster 2\n",
      "right,ballot,mask,come,forest,say,good,group,support,think\n",
      "\n",
      "Cluster 3\n",
      "dominate,sarcastically,joe,suburb,fraud,people,say,ballot,happen,know\n",
      "\n",
      "Cluster 4\n",
      "fixing,favored,count,vote,chris,love,statement,make,know,wrong\n",
      "\n",
      "Cluster 5\n",
      "understand,good,thing,care,big,tell,let,people,year,joe\n"
     ]
    }
   ],
   "source": [
    "trump_clusters = KMeans(n_clusters=k, random_state=0).fit_predict(tv)\n",
    "\n",
    "keywords = get_top_keywords(tv, trump_clusters, trump_vectorizer.get_feature_names(), 10)\n",
    "\n",
    "print('Trump clusters')\n",
    "trump_list = list(trump_clusters)\n",
    "for i in range(k):\n",
    "    print('\\nCluster {}'.format(i, trump_list.count(i)))\n",
    "    print(keywords[i])"
   ]
  },
  {
   "cell_type": "markdown",
   "metadata": {},
   "source": [
    "### 2. Biden"
   ]
  },
  {
   "cell_type": "code",
   "execution_count": 17,
   "metadata": {
    "scrolled": true
   },
   "outputs": [
    {
     "name": "stdout",
     "output_type": "stream",
     "text": [
      "Biden clusters\n",
      "\n",
      "Cluster 0\n",
      "healthcare,fact,economy,deal,talk,tax,say,look,sure,plan\n",
      "\n",
      "Cluster 1\n",
      "focus,folk,fool,finish,dishonorably,discharge,deal,absolutely,simply,true\n",
      "\n",
      "Cluster 2\n",
      "way,fact,want,ballot,right,court,man,vote,president,people\n",
      "\n",
      "Cluster 3\n",
      "panic,senator,fact,people,lie,let,job,deal,lot,know\n",
      "\n",
      "Cluster 4\n",
      "scientist,worried,pressure,disagree,remember,ranting,final,ask,answer,question\n",
      "\n",
      "Cluster 5\n",
      "true,way,million,fact,report,dollar,matter,discredited,discredit,totally\n"
     ]
    }
   ],
   "source": [
    "biden_clusters = KMeans(n_clusters=k, random_state=0).fit_predict(bv)\n",
    "\n",
    "keywords = get_top_keywords(bv, biden_clusters, biden_vectorizer.get_feature_names(), 10)\n",
    "\n",
    "print('Biden clusters')\n",
    "biden_list = list(biden_clusters)\n",
    "for i in range(k):\n",
    "    print('\\nCluster {}'.format(i, biden_list.count(i)))\n",
    "    print(keywords[i])"
   ]
  },
  {
   "cell_type": "code",
   "execution_count": 27,
   "metadata": {},
   "outputs": [
    {
     "data": {
      "text/html": [
       "<div>\n",
       "<style scoped>\n",
       "    .dataframe tbody tr th:only-of-type {\n",
       "        vertical-align: middle;\n",
       "    }\n",
       "\n",
       "    .dataframe tbody tr th {\n",
       "        vertical-align: top;\n",
       "    }\n",
       "\n",
       "    .dataframe thead th {\n",
       "        text-align: right;\n",
       "    }\n",
       "</style>\n",
       "<table border=\"1\" class=\"dataframe\">\n",
       "  <thead>\n",
       "    <tr style=\"text-align: right;\">\n",
       "      <th></th>\n",
       "      <th>speaker</th>\n",
       "      <th>text</th>\n",
       "      <th>cluster tokens</th>\n",
       "      <th>cluster</th>\n",
       "    </tr>\n",
       "  </thead>\n",
       "  <tbody>\n",
       "    <tr>\n",
       "      <th>177</th>\n",
       "      <td>Biden</td>\n",
       "      <td>His own CDC Director says we could lose as many as another 200,000 people between now and the en...</td>\n",
       "      <td>cdc director say lose people end year say wear mask save half mask way term notion vaccine vacci...</td>\n",
       "      <td>0</td>\n",
       "    </tr>\n",
       "    <tr>\n",
       "      <th>446</th>\n",
       "      <td>Biden</td>\n",
       "      <td>I'm sure that you've already fired most of them, because they did a good job.</td>\n",
       "      <td>sure fire good job</td>\n",
       "      <td>0</td>\n",
       "    </tr>\n",
       "    <tr>\n",
       "      <th>292</th>\n",
       "      <td>Biden</td>\n",
       "      <td>Do I get my time back? The fact is that he has in fact, worked on this in a way that he's going ...</td>\n",
       "      <td>time fact fact work way go president united states leave office have few job administration pres...</td>\n",
       "      <td>2</td>\n",
       "    </tr>\n",
       "    <tr>\n",
       "      <th>12</th>\n",
       "      <td>Biden</td>\n",
       "      <td>Now, what's at stake here is the President's made it clear, he wants to get rid of the Affordabl...</td>\n",
       "      <td>stake president clear want rid affordable care act run run govern supreme court right try rid af...</td>\n",
       "      <td>2</td>\n",
       "    </tr>\n",
       "    <tr>\n",
       "      <th>629</th>\n",
       "      <td>Biden</td>\n",
       "      <td>That is not true.</td>\n",
       "      <td>true</td>\n",
       "      <td>1</td>\n",
       "    </tr>\n",
       "  </tbody>\n",
       "</table>\n",
       "</div>"
      ],
      "text/plain": [
       "    speaker  \\\n",
       "177   Biden   \n",
       "446   Biden   \n",
       "292   Biden   \n",
       "12    Biden   \n",
       "629   Biden   \n",
       "\n",
       "                                                                                                    text  \\\n",
       "177  His own CDC Director says we could lose as many as another 200,000 people between now and the en...   \n",
       "446                        I'm sure that you've already fired most of them, because they did a good job.   \n",
       "292  Do I get my time back? The fact is that he has in fact, worked on this in a way that he's going ...   \n",
       "12   Now, what's at stake here is the President's made it clear, he wants to get rid of the Affordabl...   \n",
       "629                                                                                    That is not true.   \n",
       "\n",
       "                                                                                          cluster tokens  \\\n",
       "177  cdc director say lose people end year say wear mask save half mask way term notion vaccine vacci...   \n",
       "446                                                                                   sure fire good job   \n",
       "292  time fact fact work way go president united states leave office have few job administration pres...   \n",
       "12   stake president clear want rid affordable care act run run govern supreme court right try rid af...   \n",
       "629                                                                                                 true   \n",
       "\n",
       "     cluster  \n",
       "177        0  \n",
       "446        0  \n",
       "292        2  \n",
       "12         2  \n",
       "629        1  "
      ]
     },
     "execution_count": 27,
     "metadata": {},
     "output_type": "execute_result"
    }
   ],
   "source": [
    "trump_df['cluster'] = trump_clusters.tolist()\n",
    "biden_df['cluster'] = biden_clusters.tolist()\n",
    "\n",
    "trump_df.to_csv('data/clusters/trumpClusters.csv')\n",
    "biden_df.to_csv('data/clusters/bidenClusters.csv')\n",
    "\n",
    "biden_df.sample(n=5)"
   ]
  },
  {
   "cell_type": "markdown",
   "metadata": {},
   "source": [
    "## Intra-Cluster Extractive Summarization"
   ]
  },
  {
   "cell_type": "code",
   "execution_count": 19,
   "metadata": {},
   "outputs": [],
   "source": [
    "import math\n",
    "from sumy.summarizers.lex_rank import LexRankSummarizer\n",
    "from sumy.summarizers.text_rank import TextRankSummarizer\n",
    "from sumy.parsers.plaintext import PlaintextParser\n",
    "from sumy.nlp.tokenizers import Tokenizer"
   ]
  },
  {
   "cell_type": "code",
   "execution_count": 65,
   "metadata": {},
   "outputs": [],
   "source": [
    "SUMM_PERCENT = .4\n",
    "MAX_SUMM_LEN = 10"
   ]
  },
  {
   "cell_type": "markdown",
   "metadata": {},
   "source": [
    "## 1. Trump Summaries"
   ]
  },
  {
   "cell_type": "code",
   "execution_count": 21,
   "metadata": {
    "scrolled": true
   },
   "outputs": [
    {
     "name": "stdout",
     "output_type": "stream",
     "text": [
      "Cluster 0:\n",
      "If you look at Chicago, if you look at any place you want to look, Seattle, they heard we were coming in the following day and they put up their hands and we got back Seattle.\n",
      "The places we had trouble were democratic run cities- I think as a party issue, you can bring in a couple of examples but if you look at Chicago, what's going on in Chicago where a 53 people were shot and eight died shot, if you look at New York where it's going up, like nobody's ever seen anything.\n",
      "The numbers are going up a 100%, 150%, 200% crime, it is crazy what's going on and he doesn't want to say law and order because he can't because he'll lose his radical left supporters and once he does that, it's over with.\n",
      "But if he ever got to run this country and they ran it the way he would want to run it, we would have by the way our suburbs would be gone.\n",
      "You go and vote- You either do, Chris, a solicited ballot, where you're sending it in, they're sending it back and you're sending.\n",
      "\n",
      "Cluster 1:\n",
      "I paid millions of dollars in taxes, millions of dollars of income tax.\n",
      "And also, while we're at it, why is it just out of curiosity, the mayor of Moscow's wife gave you a son three and a half million dollars?\n",
      "Well wait, he didn't get three and a half million dollars, Joe?\n",
      "He got three and a half million dollars from Moscow.\n",
      "I know but when somebody gets three and a half million dollars from the Mayor of Moscow.\n",
      "\n",
      "Cluster 2:\n",
      "I put a mask on when I think I need it.\n",
      "Tonight, as an example, everybody's had a test and you've had social distancing and all of the things that you have to, but I wear masks- I think he did.\n",
      "I think a lot of things do, but I think to an extent, yes.\n",
      "I think to an extent, yes, but I also think we have to do better management of our forest.\n",
      "I think I'm counting on them to look at the ballots, definitely.\n",
      "\n",
      "Cluster 3:\n",
      "And, by the way, when you talk about numbers, you don't know how many people died in China.\n",
      "I've spoken to Pfizer, I've spoken to all of the people that you have to speak to, Moderna, Johnson & Johnson, and others.\n",
      "It's become very political because the left... Or I don't know if I call them left, I don't know what I call them.\n",
      "I ended it because a lot of people were complaining that they were asked to do things that were absolutely insane.\n",
      "You know it can't, and already, there's been fraud  - I'm urging my supporters to go in to the polls and watch very carefully, because that's what has to happen.\n",
      "\n",
      "Cluster 4:\n",
      "Wrong.\n",
      "Wrong.\n",
      "That's wrong.\n",
      "You're wrong.\n",
      "You're wrong  .\n",
      "\n",
      "Cluster 5:\n",
      "The only thing I haven't done a good job, and that's because of the fake news, no matter what you say to them, they give you a bad press on it.\n",
      "If you would have had the charge of what I was put through, I had to close the greatest economy of the history of our country.\n",
      "If you look at Pennsylvania, if you look at certain states that have been shut down, they have Democrat governors, all, one of the reasons they shut down is because they want to keep it shut down until after the election on November 3rd.\n",
      "Hey, let me just tell you, Joe- So you did that and they call you a super predator and I'm letting people out of jail now, that you have treated the African-American population community, you have treated the black community about as bad as anybody in this country.\n",
      "And I'll tell you something, some people say maybe the most important by the end of the first term I'll have approximately 300 Federal judges and Court of Appeals judges, 300 and hopefully three great Supreme Court judges, justices that is a record the likes of which very few people and one of the reasons I'll have so many judges because President Obama and him left me 128 judges to fill.\n",
      "\n"
     ]
    }
   ],
   "source": [
    "trump_summaries_tr = []\n",
    "\n",
    "for i in range(k):\n",
    "    text = trump_df[trump_df['cluster'] == i].text\n",
    "    parser = PlaintextParser(' '.join(text.to_list()), Tokenizer(\"English\"))\n",
    "    summarizer = TextRankSummarizer()\n",
    "    \n",
    "    # the extractive summary for each cluster will consist of  \n",
    "    # the 5 highest ranked sentences\n",
    "    summary = summarizer(parser.document, 5)\n",
    "    trump_summaries_tr.append(summary)\n",
    "\n",
    "    \n",
    "\n",
    "for c in range(k):\n",
    "    print('Cluster {}:'.format(c))\n",
    "    \n",
    "    for sent in trump_summaries_tr[c][:5]:\n",
    "        print(sent)\n",
    "        \n",
    "    print('')\n",
    "    \n",
    "# print('[Trump] TextRank output for Cluster 1:\\n')\n",
    "# for sent in trump_summaries_tr[1]:\n",
    "#     print(sent)"
   ]
  },
  {
   "cell_type": "code",
   "execution_count": 20,
   "metadata": {
    "scrolled": true
   },
   "outputs": [
    {
     "name": "stdout",
     "output_type": "stream",
     "text": [
      "Cluster 0:\n",
      "So we won the election and we have the right to do it, Chris.\n",
      "And I'm telling you it's because they don't want to open it.\n",
      "The numbers are going up a 100%, 150%, 200% crime, it is crazy what's going on and he doesn't want to say law and order because he can't because he'll lose his radical left supporters and once he does that, it's over with.\n",
      "But if he ever got to run this country and they ran it the way he would want to run it, we would have by the way our suburbs would be gone.\n",
      "That's like, you just don't do that.\n",
      "\n",
      "Cluster 1:\n",
      "I paid millions of dollars in taxes, millions of dollars of income tax.\n",
      "And also, while we're at it, why is it just out of curiosity, the mayor of Moscow's wife gave you a son three and a half million dollars?\n",
      "Well wait, he didn't get three and a half million dollars, Joe?\n",
      "You son got three and a half million dollars.\n",
      "100 million dollars.\n",
      "\n",
      "Cluster 2:\n",
      "I think a lot of things do, but I think to an extent, yes.\n",
      "I think to an extent, yes, but I also think we have to do better management of our forest.\n",
      "If that was cleaned, if that were, if you had forest management, good forest management, you wouldn't be getting those calls.\n",
      "I think I'm counting on them to look at the ballots, definitely.\n",
      "They throw them out- You think that's good?\n",
      "\n",
      "Cluster 3:\n",
      "You know that.\n",
      "And you know how I found out?\n",
      "It's a fraud, and it's a shame.\n",
      "And can you imagine where they say, You have to have your ballot in by November 10th.\n",
      "You know it can't, and already, there's been fraud  - I'm urging my supporters to go in to the polls and watch very carefully, because that's what has to happen.\n",
      "\n",
      "Cluster 4:\n",
      "That's wrong.\n",
      "Well, then you know what, he's wrong.\n",
      "You're wrong.\n",
      "You're wrong  .\n",
      "I love counting the votes  - Chris, he's so wrong when he makes a statement like that-\n",
      "\n",
      "Cluster 5:\n",
      "The only thing I haven't done a good job, and that's because of the fake news, no matter what you say to them, they give you a bad press on it.\n",
      "But I'll tell you, Joe, you could never have done the job that we did.\n",
      "If you would have had the charge of what I was put through, I had to close the greatest economy of the history of our country.\n",
      "I mean- ...\n",
      "But what happened is we closed it down and now we're reopening and we're doing record business.\n",
      "\n"
     ]
    }
   ],
   "source": [
    "trump_summaries_lr = []\n",
    "\n",
    "for i in range(k):\n",
    "    text = trump_df[trump_df['cluster'] == i].text\n",
    "    parser = PlaintextParser(' '.join(text.to_list()), Tokenizer(\"English\"))\n",
    "    summarizer = LexRankSummarizer()\n",
    "    \n",
    "    summary = summarizer(parser.document, 5)\n",
    "    trump_summaries_lr.append(summary)\n",
    "    \n",
    "for c in range(k):\n",
    "    print('Cluster {}:'.format(c))\n",
    "    \n",
    "    for sent in trump_summaries_lr[c][:5]:\n",
    "        print(sent)\n",
    "        \n",
    "    print('')\n",
    "\n",
    "# print('[Trump] LexRank output for Cluster 1:\\n')\n",
    "# for sent in trump_summaries_lr[1]:\n",
    "#     print(sent)"
   ]
  },
  {
   "cell_type": "markdown",
   "metadata": {},
   "source": [
    "## 2. Biden Summaries"
   ]
  },
  {
   "cell_type": "code",
   "execution_count": 28,
   "metadata": {},
   "outputs": [
    {
     "name": "stdout",
     "output_type": "stream",
     "text": [
      "Cluster 0:\n",
      "You should get out of your bunker and get out of the sand trap in your golf course and go in the Oval Office and bring together the Democrats and Republicans and fund what needs to be done now to save lives.\n",
      "Every serious company is talking about maybe having a vaccine done by the end of the year, but the distribution of that vaccine will not occur until sometime beginning of the middle of next year to get it out, if we get the vaccine.\n",
      "And under my proposal, we're going to make sure that every penny of that has to be made by a company- By the way, I'm going to eliminate a significant number of the taxes.\n",
      "We're going to build a economy that in fact is going to provide for the ability of us to take 4 million buildings and make sure that they in fact are weatherized in a way that in fact will they'll emit significantly less gas and oil because the heat will not be going out.\n",
      "This is the guy who says that, the fact that- I'm talking about the Biden plan  - That is not- Simply... Look- That is simply not the case- What it's going to do, it's going to create thousands and millions of jobs.\n",
      "\n",
      "Cluster 1:\n",
      "That is not true.\n",
      "That is not true.\n",
      "That is not true.\n",
      "That is not true.\n",
      "That is not true.\n",
      "\n",
      "Cluster 2:\n",
      "The fact is that he has in fact, worked on this in a way that he's going to be the first president of the United States to leave office, having fewer jobs in his administration than when he became president.\n",
      "And the idea that he is insisting that we go forward and open when you have almost half the states in America with a significant increase in COVID deaths and COVID cases in the United States of America, and he wants to open it up more.\n",
      "And what I'm going to do as President of the United States is call together an entire group of people at the White House, everything from the civil rights groups, to the police officers, to the police chiefs, and we're going to work this out.\n",
      "There's many people today driving their kids to soccer practice and/or black and white and Hispanic in the same car as there have been any time in the past, what really is a threat to the suburbs and their safety is his failure to deal with COVID.\n",
      "You should be able to, if in fact you can verify that's you before the ballot is thrown out, that's sufficient to be able to count the ballot because someone made a mistake and not dotting the correct I.\n",
      "\n",
      "Cluster 3:\n",
      "When he was presented with that number, he said, It is what it is.\n",
      "He said he didn't tell us or give people a warning of it because he didn't want to panic the American people.\n",
      "Do you believe for a moment what he's telling you in light of all the lies he's told you about the whole issue relating to COVID?\n",
      "He still hasn't even acknowledged that he knew this was happening, knew how dangerous it was going to be back in February, and he didn't even tell you.\n",
      "A lot of people died and a lot more are going to die unless he gets a lot smarter, a lot quicker- He doesn't want to let me answer, because he knows I have the truth.\n",
      "\n",
      "Cluster 4:\n",
      "I'm not going to answer the question.\n",
      "No more than the question you just asked him.\n",
      "By the way, did you see one of the last big rallies he had?\n",
      "A reporter came up to him to ask him a question, he said, No, no, no.\n",
      "He's not worried about the people out there  .\n",
      "\n",
      "Cluster 5:\n",
      "He's been totally irresponsible the way in which he has handled the social distancing and people wearing masks, basically encouraged them not to.\n",
      "Is totally- Totally discredited.\n",
      "And by the way- It's been totally discredited.\n",
      "And matter of fact   Matter of fact- He wasn't given tens of millions of dollars.\n",
      "That report is totally discredited.\n",
      "\n"
     ]
    }
   ],
   "source": [
    "biden_summaries_tr = []\n",
    "\n",
    "for i in range(k):\n",
    "    text = biden_df[biden_df['cluster'] == i].text\n",
    "    parser = PlaintextParser(' '.join(text.to_list()), Tokenizer(\"English\"))\n",
    "    summarizer = TextRankSummarizer()\n",
    "    \n",
    "    summary = summarizer(parser.document, 5)\n",
    "    biden_summaries_tr.append(summary)\n",
    "  \n",
    "for c in range(k):\n",
    "    print('Cluster {}:'.format(c))\n",
    "    \n",
    "    for sent in biden_summaries_tr[c][:5]:\n",
    "        print(sent)\n",
    "        \n",
    "    print('')\n",
    "\n",
    "# print('[Biden] LexRank output for Cluster 4:\\n')\n",
    "# for sent in biden_summaries_lr[4]:\n",
    "#     print(sent)"
   ]
  },
  {
   "cell_type": "code",
   "execution_count": 67,
   "metadata": {},
   "outputs": [
    {
     "name": "stdout",
     "output_type": "stream",
     "text": [
      "Cluster 0 (Length - 15):\n",
      "You're not going to be able to shut him up.\n",
      "You should get out of your bunker and get out of the sand trap in your golf course and go in the Oval Office and bring together the Democrats and Republicans and fund what needs to be done now to save lives.\n",
      "And there was no one ... We didn't shut down the economy.\n",
      "And under my proposal, we're going to make sure that every penny of that has to be made by a company- By the way, I'm going to eliminate a significant number of the taxes.\n",
      "Because you in fact passed that, that was your tax proposal.\n",
      "And in fact, they're gone- And so you take a look at what he's actually done.\n",
      "Mr. Vice- It is not a fact.\n",
      "That's what this is all about.\n",
      "With regard to being weaker, the fact is that I've gone head to head with Putin and made it clear to him we're not going to take any of his stuff.\n",
      "You in the home, you got less you're in more trouble than you were before.\n",
      "\n",
      "Cluster 1 (Length - 15):\n",
      "That is not true.\n",
      "That is not true.\n",
      "None of that is true.\n",
      "None of that is true.\n",
      "That is not true.\n",
      "That is simply not true.\n",
      "That is absolutely not true.\n",
      "That is not true.\n",
      "That's not true.\n",
      "That's not true he was not dishonorably discharged.\n",
      "\n",
      "Cluster 2 (Length - 15):\n",
      "The American people have a right to have a say in who the Supreme Court nominee is and that say occurs when they vote for United States Senators and when they vote for the President of United States.\n",
      "We should wait and see what the outcome of this election is because that's the only way the American people get to express their view is by who they elect as President and who they elect as Vice President.\n",
      "Well, that's what he's going to try to do, but there's thousands of scientists out there, like here at this great hospital that don't work for him.\n",
      "They're the people... And by the way- Do I get my time back?\n",
      "The fact is that he has in fact, worked on this in a way that he's going to be the first president of the United States to leave office, having fewer jobs in his administration than when he became president.\n",
      "You, the American people, it's about you.\n",
      "This is a man who, in fact, you talk about helping African-Americans, one in 1000 African Americans has been killed because of the coronavirus.\n",
      "This is not 1950.\n",
      "And so we have to be...\n",
      "They can in fact take care of it if he just stay out of the way.\n",
      "\n",
      "Cluster 3 (Length - 15):\n",
      "All he knows how to do- Because here's the deal, here's the deal.\n",
      "No, he doesn't know how to do that.\n",
      "He doesn't know how to do that.\n",
      "We, in fact, have 4% of the world's population, 20% of the deaths.\n",
      "In addition to that, about between 750 and 1000 people a day are dying.\n",
      "When he was presented with that number, he said, It is what it is.\n",
      "Well, it is what it is because you are who you are.\n",
      "What did he do?\n",
      "He said he didn't tell us or give people a warning of it because he didn't want to panic the American people.\n",
      "In addition to that, what did he do?\n",
      "\n",
      "Cluster 4 (Length - 12):\n",
      "I'm not going to answer the question.\n",
      "No more than the question you just asked him.\n",
      "You pointed out he puts pressure and disagrees with his own scientists.\n",
      "By the way, did you see one of the last big rallies he had?\n",
      "A reporter came up to him to ask him a question, he said, No, no, no.\n",
      "Stand back, put on your mask, put on a mask.\n",
      "Have you been tested?\n",
      "I'm way far away from those other people.\n",
      "That's what he said, I'm going to be okay.\n",
      "He's not worried about you.\n",
      "\n",
      "Cluster 5 (Length - 11):\n",
      "Yes, I would.\n",
      "He's been totally irresponsible the way in which he has handled the social distancing and people wearing masks, basically encouraged them not to.\n",
      "He's a fool on this.\n",
      "Is totally- Totally discredited.\n",
      "Totally discredited.\n",
      "And by the way- It's been totally discredited.\n",
      "By everyone, has discredited.\n",
      "And matter of fact   Matter of fact- He wasn't given tens of millions of dollars.\n",
      "It was all discredited.\n",
      "That is not true.\n",
      "\n"
     ]
    }
   ],
   "source": [
    "biden_summaries_lr = []\n",
    "\n",
    "for i in range(k):\n",
    "    text = biden_df[biden_df['cluster'] == i].text\n",
    "    parser = PlaintextParser(' '.join(text.to_list()), Tokenizer(\"English\"))\n",
    "    summarizer = LexRankSummarizer()\n",
    "    \n",
    "    summary = summarizer(parser.document, 15)\n",
    "    biden_summaries_lr.append(summary)\n",
    "\n",
    "for c in range(k):\n",
    "    print('Cluster {} (Length - {}):'.format(c, len(biden_summaries_lr[c])))\n",
    "    \n",
    "    for sent in biden_summaries_lr[c][:10]:\n",
    "        print(sent)\n",
    "        \n",
    "    print('')\n",
    "    \n",
    "# print('[Biden] LexRank output for Cluster 1:\\n')\n",
    "# for sent in biden_summaries_lr[1]:\n",
    "#     print(sent)"
   ]
  },
  {
   "cell_type": "code",
   "execution_count": 68,
   "metadata": {},
   "outputs": [
    {
     "data": {
      "text/plain": [
       "\"You're not going to be able to shut him up. You should get out of your bunker and get out of the sand trap in your golf course and go in the Oval Office and bring together the Democrats and Republicans and fund what needs to be done now to save lives. And there was no one ... We didn't shut down the economy. And under my proposal, we're going to make sure that every penny of that has to be made by a company- By the way, I'm going to eliminate a significant number of the taxes. Because you in fact passed that, that was your tax proposal. And in fact, they're gone- And so you take a look at what he's actually done. Mr. Vice- It is not a fact. That's what this is all about. With regard to being weaker, the fact is that I've gone head to head with Putin and made it clear to him we're not going to take any of his stuff. You in the home, you got less you're in more trouble than you were before. Making sure that we can do that, we're going to put 500,000 charging stations in all of the highways that we're going to be building in the future. We're going to build a economy that in fact is going to provide for the ability of us to take 4 million buildings and make sure that they in fact are weatherized in a way that in fact will they'll emit significantly less gas and oil because the heat will not be going out. This is the guy who says that, the fact that- I'm talking about the Biden plan  - That is not- Simply... Look- That is simply not the case- What it's going to do, it's going to create thousands and millions of jobs. Yeah, he did say that- And here's the deal- ... we're going to be in a position where we can create hard, hard, good jobs by making sure the environment is clean, and we all are in better shape. That is not my plan  . That is not true. That is not true. None of that is true. None of that is true. That is not true. That is simply not true. That is absolutely not true. That is not true. That's not true. That's not true he was not dishonorably discharged. None of that is true. That is not true. It's all true. And here's the deal- Not true- Not true. Not true. The American people have a right to have a say in who the Supreme Court nominee is and that say occurs when they vote for United States Senators and when they vote for the President of United States. We should wait and see what the outcome of this election is because that's the only way the American people get to express their view is by who they elect as President and who they elect as Vice President. Well, that's what he's going to try to do, but there's thousands of scientists out there, like here at this great hospital that don't work for him. They're the people... And by the way- Do I get my time back? The fact is that he has in fact, worked on this in a way that he's going to be the first president of the United States to leave office, having fewer jobs in his administration than when he became president. You, the American people, it's about you. This is a man who, in fact, you talk about helping African-Americans, one in 1000 African Americans has been killed because of the coronavirus. This is not 1950. And so we have to be... They can in fact take care of it if he just stay out of the way. They should go to iwillvote.com, decide how they're going to vote, when they're going to vote, and what means by which they're going to vote. The fact is that there are going to be millions of people because of COVID that are going to be voting by mail-in ballots like he does, by the way. Number two, we're going to make sure that those people who want to vote in person are able to vote because there are enough poll watchers are there to make sure they can socially distance. But by the way, if in fact he says, he's not sure what he's going to accept. And I'll be a president, not just for the Democrats. All he knows how to do- Because here's the deal, here's the deal. No, he doesn't know how to do that. He doesn't know how to do that. We, in fact, have 4% of the world's population, 20% of the deaths. In addition to that, about between 750 and 1000 people a day are dying. When he was presented with that number, he said, It is what it is. Well, it is what it is because you are who you are. What did he do? He said he didn't tell us or give people a warning of it because he didn't want to panic the American people. In addition to that, what did he do? I know how to do the job. Do you believe for a moment what he's telling you in light of all the lies he's told you about the whole issue relating to COVID? He still hasn't even acknowledged that he knew this was happening, knew how dangerous it was going to be back in February, and he didn't even tell you. A lot of people died and a lot more are going to die unless he gets a lot smarter, a lot quicker- He doesn't want to let me answer, because he knows I have the truth. I know a lot more about this-  . I'm not going to answer the question. No more than the question you just asked him. You pointed out he puts pressure and disagrees with his own scientists. By the way, did you see one of the last big rallies he had? A reporter came up to him to ask him a question, he said, No, no, no. Stand back, put on your mask, put on a mask. Have you been tested? I'm way far away from those other people. That's what he said, I'm going to be okay. He's not worried about you. He's not worried about the people out there  . The final question is, I can't remember which of all his rantings  . Yes, I would. He's been totally irresponsible the way in which he has handled the social distancing and people wearing masks, basically encouraged them not to. He's a fool on this. Is totally- Totally discredited. Totally discredited. And by the way- It's been totally discredited. By everyone, has discredited. And matter of fact   Matter of fact- He wasn't given tens of millions of dollars. It was all discredited. That is not true. That report is totally discredited.\""
      ]
     },
     "execution_count": 68,
     "metadata": {},
     "output_type": "execute_result"
    }
   ],
   "source": [
    "biden_lr = ''\n",
    "for cluster_summ in biden_summaries_lr:\n",
    "    biden_lr += ' ' + ' '.join([str(sent) for sent in cluster_summ])\n",
    "    \n",
    "biden_lr = biden_lr.strip()\n",
    "biden_lr"
   ]
  },
  {
   "cell_type": "code",
   "execution_count": 76,
   "metadata": {},
   "outputs": [
    {
     "name": "stdout",
     "output_type": "stream",
     "text": [
      "69\n",
      "Number one, he knows what I proposed. What I proposed is that we expand Obamacare and we increase it. We do not wipe any. And one of the big debates we had with 23 of my colleagues trying to win the nomination that I won, were saying that Biden wanted to allow people to have private insurance still. They can. They do. They will under my proposal. That is simply a lie. He sends out wishful thinking. He has Executive Orders that have no power. He hasn't lowered drug costs for anybody. He's been promising a healthcare plan since he got elected. He has none, like almost everything else he talks about. He does not have a plan. He doesn't have a plan. And the fact is this man doesn't know what he's talking about.  . I laid out back in March, exactly what we should be doing. And I laid out again in July, what we should be doing. We should be providing all the protective gear possible. We should be providing the money the House has passed in order to be able to go out and get people the help they need to keep their businesses open. Open schools cost a lot of money. You should get out of your bunker and get out of the sand trap in your golf course and go in the Oval Office and bring together the Democrats and Republicans and fund what needs to be done now to save lives. And there was no one ... We didn't shut down the economy. This is his economy he shut down. The reason it's shut down is because, look, you folks at home. How many of you got up this morning and had an empty chair at the kitchen table because someone died of COVID? How many of you are in a situation where you lost your mom or dad and you couldn't even speak to them, you had a nurse holding a phone up so you could in fact say goodbye? His own CDC Director says we could lose as many as another 200,000 people between now and the end of the year. And he said, if we just wear a mask, we can save half those numbers. Just a mask. And by the way, in terms of the whole notion of a vaccine, we're for a vaccine, but I don't trust him at all. Nor do you. I know you don't. What we trust is a scientist. So here's the deal. This man is talking about a vaccine. Every serious company is talking about maybe having a vaccine done by the end of the year, but the distribution of that vaccine will not occur until sometime beginning of the middle of next year to get it out, if we get the vaccine. And pray God we will. Pray God we will. Because he doesn't have a plan. If I were running it, I'd know what the plan is. You've got to provide these businesses the ability to have the money to be able to reopen with the PPE, as well as with the sanitation they need. You have to provide them classic- Look, the way to open businesses is give them the wherewithal to be able open. We provided money, the- Well, masks make a big difference. His own head of the CDC said if we just wore masks between now, if everybody wore a mask and social distanced between now and January, we'd probably save up to 100,000 lives. It matters. It matters. The difference is millionaires and billionaires like him in the middle of the COVID crisis have done very well. Billionaires have made another $300 billion because of his profligate tax proposal, and he only focused on the market. But you folks at home, you folks living in Scranton and Claymont and all the small towns and working class towns in America, how well are you doing? This guy paid a total of $750 in taxes. Yeah, I do want to respond. Look, the tax code that put him in a position that he pays less tax than on the money a school teacher makes is because of him... He says he's smart because he can take advantage of the tax code. And he does take advantage of the tax code. That's why I'm going to eliminate the Trump tax cuts. And I'm going to eliminate those tax cuts. Well, just take a look at what is the analysis done by Wall Street firms, points out that my economic plan would create 7 million more jobs than his in four years, number one. And number two, it would create an additional $1 trillion in economic growth, because it would be about buying American. The federal government spends $600 billion a year on everything from ships, to steel, to buildings and the like. And under my proposal, we're going to make sure that every penny of that has to be made by a company- By the way, I'm going to eliminate a significant number of the taxes. I'm going to make the corporate tax 28%. It shouldn't be 21%. You have 91 companies federal, I mean, the fortune 500, who don't pay a single penny in tax making billions of dollars. ... we inherited the worst recession, short of a depression in American history. I was asked to bring it back. We were able to have an economic recovery that created the jobs you're talking about. We handed him a booming economy, he blew it. Yeah, because what he did, even before COVID, manufacturing went in the hole. Manufacturing went in a hole- I'm the guy that brought back the automobile industry. I was asked to bring back Chrysler and General Motors. He brought them back right here in the state of Ohio and Michigan. He blew it. They're gone. He blew it. And in fact, they're gone- And the fact of the matter is, violent crime went down 17%, 15% in our administration. It's gone up on his watch. And by the way his own former spokesperson said, Riots and chaos and violence help he cause. That's what this is all about. Under this president, we become weaker, sicker, poor, more divided and more violent. When I was vice president, we inherited a recession. I was asked to fix it. I did. We left him a booming economy and he caused the recession. With regard to being weaker, the fact is that I've gone head to head with Putin and made it clear to him we're not going to take any of his stuff. He's Putin's puppy. He still refuses to even say anything to Putin about the bounty on the heads of American soldiers. So thirdly, we're poor. The billionaires have gotten much more wealthy by a tune of over $3- $400 billion more just since COVID. You in the home, you got less you're in more trouble than you were before. In terms of being more violent. When we were in office there were 15% less violence in America than there is today. He's President United States. It's on his watch. And with regard to more divided the nation, it can't stay divided. We can't be this way. And speaking of my son, the way you talk about the military, the way you talk about them being losers and being and just being suckers. My son was in Iraq. He spent a year there. He got the Brown Star. He got the Conspicuous Service Medal. He was not a loser. He was a Patriot and the people left behind there were heroes. He's absolutely wrong, number one. Number two, if in fact, during our administration in the recovery act, I was in charge able to bring down the cost of renewable energy to cheaper than are as cheap as coal and gas and oil. Nobody's going to build another coal fired plant in America. No one's going to build another oil fire plant in America. They're going to move to renewable energy. Number one, number two, we're going to make sure that we are able to take the federal fleet and turn it into a fleet that's run on their electric vehicles. Making sure that we can do that, we're going to put 500,000 charging stations in all of the highways that we're going to be building in the future. We're going to build a economy that in fact is going to provide for the ability of us to take 4 million buildings and make sure that they in fact are weatherized in a way that in fact will they'll emit significantly less gas and oil because the heat will not be going out. There's so many things that we can do... Gas and oil because the heat will not be going out. There's so many things that we can do now to create thousands and thousands of jobs. We can get to net zero, in terms of energy production, by 2035. Not only not costing people jobs, creating jobs, creating millions of good-paying jobs. Not 15 bucks an hour, but prevailing wage, by having a new infrastructure that in fact, is green. And the first thing I will do, I will rejoin the Paris Accord. I will join the Paris Accord because with us out of it, look what's happening. It's all falling apart. And talk about someone who has no relationship with foreign policy. The rainforests of Brazil are being torn down, are being ripped down. More carbon is absorbed in that rainforest than every bit of carbon that's emitted in the United States. Instead of doing something about that, I would be gathering up and making sure we had the countries of the world coming up with $20 billion, and say, Here's $20 billion. Stop tearing down the forest. And If you don't, then you're going to have significant economic consequences. What it's going to do, it's going to create thousands and millions of jobs. Good paying jobs  . ... we're going to be in a position where we can create hard, hard, good jobs by making sure the environment is clean, and we all are in better shape. We spend billions of dollars now, billions of dollars, on floods, hurricanes, rising seas. We're in real trouble. Look what's happened just in the Midwest with these storms that come through and wipe out entire sections and counties in Iowa. They didn't happen before. They're because of global warming. We make up 15% of the world's problem. But the rest of the world, we've got to get them to come along. That's why we have to get back into the Paris Accord. That is not my plan  . The Green New Deal   is not my plan.  - The Green New Deal will pay for itself as we move forward. We're not going to build plants that, in fact, are great polluting plants- No, I don't support the Green New Deal. I support   the Biden plan that I put forward. The Biden plan, which is different than what he calls the radical Green New Deal. Five states have had mail-in ballots for the last decade or more. Five, including two Republican states. And you don't have to solicit the ballot. It's sent to you. It's sent to your home. What they're saying is that it has to be a postmark by election day. If it doesn't get in until the seventh, eighth, ninth, it still should be counted. He's just afraid of counting the votes- Mail service delivers   185 million pieces of mail a day  - The American people have a right to have a say in who the Supreme Court nominee is and that say occurs when they vote for United States Senators and when they vote for the President of United States. They're not going to get that chance now because we're in the middle of an election already. The election has already started. Tens of thousands of people already voted and so the thing that should happen is we should wait. We should wait and see what the outcome of this election is because that's the only way the American people get to express their view is by who they elect as President and who they elect as Vice President. Now, what's at stake here is the President's made it clear, he wants to get rid of the Affordable Care Act. He's been running on that, he ran on that and he's been governing on that. He's in the Supreme Court right now trying to get rid of the Affordable Care Act, which will strip 20 million people from having health insurance now, if it goes into court. And the justice, I'm not opposed to the justice, she seems like a very fine person. But she's written, before she went in the bench, which is her right, that she thinks that the Affordable Care Act is not Constitutional. The other thing that's on the court, and if it's struck down, what happens? Women's rights are fundamentally changed. Once again, a woman could pay more money because she has a pre-existing condition of pregnancy. They're able to charge women more for the same exact procedure a man gets. And that ended when we, in fact, passed the Affordable Care Act, and there's a hundred million people who have pre-existing conditions and they'll be taken away as well. Those pre-existing conditions, insurance companies are going to love this. And so it's just not appropriate to do this before this election. If he wins the election and the Senate is Republican, then he goes forward. If not, we should wait until February. The party is me. Right now, I am the Democratic Party. I am the Democratic Party right now. The platform of the Democratic Party is what I, in fact, approved of, what I approved of. Now, here's the deal. The deal is that it's going to wipe out pre-existing conditions. And, by the way, the 200,000 people that have died on his watch, how many of those have survived? Well, there's seven million people that contracted COVID. What does it mean for them going forward if you strike down the Affordable Care Act? Let me finish. The point is that the President also is opposed to Roe V. Wade. That's on the ballot as well and the court, in the court, and so that's also at stake right now. And so the election is all- It does not. It's only for those people who are so poor they qualify for Medicaid they can get that free in most States, except Governors who want to deny people who are poor Medicaid. Anyone who qualifies for Medicaid would automatically be enrolled in the public option. The vast majority of the American people would still not be in that option. Number one. Number two. Because he, in fact, already has costs 10 million people their healthcare that they had from their employers because of his recession. Number one. Number two, there are 20 million people getting healthcare through Obamacare now that he wants to take it away. He won't ever look you in the eye and say that's what he wants to do. Take it away. Whatever position I take on that, that'll become the issue. The issue is the American people should speak. You should go out and vote. You're voting now. Vote and let your Senators know strongly how you feel. Vote now. Do I get my time back? The fact is that he has in fact, worked on this in a way that he's going to be the first president of the United States to leave office, having fewer jobs in his administration than when he became president. Fewer jobs than when he became president. First one in American history. Secondly, the people who have lost their jobs are those people who have been on the front lines. Those people who have been saving our lives, those people who have been out there dying. People who've been putting themselves in the way to make sure that we could all try to make it. And the idea that he is insisting that we go forward and open when you have almost half the states in America with a significant increase in COVID deaths and COVID cases in the United States of America, and he wants to open it up more. Why is he want to open it up? Why does he take care of the... You can't fix the economy until you fix the COVID crisis. And he has no intention of doing anything about making it better for you all at home in terms of your health and your safety. Schools. Why aren't schools open? Because it costs a lot of money to open them safely. They were going to give, his administration going to give the teachers and school students masks, and then they decided no, couldn't do that because it's not a national emergency. Not a national emergency. They've done nothing to help small businesses. Nothing. They're closing. One in six is now gone. He ought to get on the job and take care of the needs of the American people so we can open safely. People want to be safe. And make sure that we invest in the people who in fact need the help. People out there need help. This is not about my family or his family. It's about your family, the American people.   That's not true. It doesn't want to talk about what you need. You, the American people, it's about you. That's what we're talking about here. It's about equity and equality. It's about decency. It's about the constitution. And we have never walked away from trying to require equity for everyone, equality for the whole of America. But we've never accomplished it, but we've never walked away from it like he has done. It is true, the reason I got in the race is when those people... Close your eyes, remember what those people look like coming out of the fields, carrying torches, their veins bulging, just spewing anti-Semitic bile and accompanied by the Ku Klux Klan. A young woman got killed and they asked the president what he thought. He said, There were very fine people on both sides. No president's ever said anything like that.  . ... second point I'd make to you, is that when Floyd was killed, when Mr. Floyd was killed, there was a peaceful protest in front of the White House. What did he do? He came out of his bunker, had the military use tear gas on them so he could walk across to a church and hold up a Bible. And then what happened after that? The Bishop of that very church said that it was a disgrace. The general who was with him said all he ever wants to do is divide people, not unite people at all. This is a president who has used everything as a dog whistle, to try to generate racists hatred, racist division. This is a man who, in fact, you talk about helping African-Americans, one in 1000 African Americans has been killed because of the coronavirus. And if he doesn't do something quickly, by the end of the year, one in 500 will have been killed. One in 500 African Americans. This man is as a savior of African-Americans? This man cares at all? This man's done virtually nothing. Look, the fact is that you have to look at what he talks about. You have to look at what he did. And what he did has been disastrous for the African-American community. Yes, there is. There's systemic injustice in this country, in education and work and in law enforcement and the way in which it's enforced. But look, the vast majority of police officers are good, decent, honorable men and women. They risk their lives every day to take care of us, but there are some bad apples. And when they occur, when they find them, they have to be sorted out. They have to be held accountable. They have to be held accountable. And what I'm going to do as President of the United States is call together an entire group of people at the White House, everything from the civil rights groups, to the police officers, to the police chiefs, and we're going to work this out. We're going to work this out. So we changed the way in which we have more transparency, in when these things happen. These cops aren't happy to see what happened to George Floyd. These cops aren't happy to see what happened to Breonna Taylor. Most don't like it, but we have to have a system where people are held accountable when... And by the way, violence in response is never appropriate, never appropriate. Peaceful protest is, violence is never appropriate. The fact is that there is racial insensitivity. People have to be made aware of what other people feel like, what insults them, what is demeaning to them. It's important people know. Many people don't want to hurt other people's feelings, but it makes a big difference. It makes a gigantic difference in the way a child is able to grow up and have a sense of self-esteem. It's a little bit like how this guy and his friends look down on so many people. They look down their nose on people like Irish Catholics, like me, who grow up in Scranton. They look down on people who don't have money. They look down on people who are of a different faith. They looked down on people who are a different color. In fact, we're all Americans. The only way we're going to bring this country together is bring everybody together. There's nothing we cannot do, if we do it together. We can take this on and we can defeat racism in American. Law and order with justice, where people get treated fairly. I was raised in the suburbs. This is not 1950. All these dog whistles and racism don't work anymore. Suburbs are by and large integrated. There's many people today driving their kids to soccer practice and/or black and white and Hispanic in the same car as there have been any time in the past, what really is a threat to the suburbs and their safety is his failure to deal with COVID. They're dying in the suburbs. His failure to deal with the environment, they're being flooded, they're being burned out because his refusal to do anything. That's why the suburbs are in trouble. Look, what I support are the police having the opportunity to deal with the problems they face and I'm totally opposed to defunding the police offices. As a matter of fact police, local police, the only one defunding in his budget calls for a $400 million cut in local law enforcement assistance. They need more assistance. They need when they show up for a 9-11 call to have someone with them as a psychologist or psychiatrist to keep them from having to use force and be able to talk people down. We have to have community policing like we had before where the officers get to know the people in the communities. That's when crime went down, it didn't go up. It went down. And so we have to be... I don't hold public office. Now I am a former vice president. I've made it clear. I've made it clear in my public statements that the violence should be prosecuted. It should be prosecuted and anyone who committed it should be prosecuted. The fact is, it's going to create millions of good paying jobs, and these tax incentives for people to weatherize, which he wants to get rid of. It's going to make the economy much safer. Look how much we're paying now to deal with the hurricanes, deal with... By the way, he has an answer for hurricanes. He said, maybe we should drop a nuclear weapon on them, and they may- Prepare to let people vote. They should go to iwillvote.com, decide how they're going to vote, when they're going to vote, and what means by which they're going to vote. His own Homeland Security director, and as well as the FBI director, says that there is no evidence at all that mail-in ballots are a source of being manipulated and cheating. They said that. The fact is that there are going to be millions of people because of COVID that are going to be voting by mail-in ballots like he does, by the way. He sits behind the Resolute Desk and sends his ballot to Florida, number one. Number two, we're going to make sure that those people who want to vote in person are able to vote because there are enough poll watchers are there to make sure they can socially distance. The polls are open on time, and the polls stay open until the votes are counted. And this is all about trying to dissuade people from voting because he's trying to scare people into thinking that it's not going to be legitimate. Show up and vote. You will determine the outcome of this election. Vote, vote, vote. If you're able to vote early in your state, vote early. If you're able to vote in person, vote in person. Vote whatever way is the best way for you, because you will... He cannot stop you from being able to determine the outcome of this election. And in terms of whether or not... When the votes are counted and they're all counted, that will be accepted. If I win, that will be accepted. If I lose, that'll be accepted. But by the way, if in fact he says, he's not sure what he's going to accept. Well, let me tell you something, it doesn't matter, because if we get the votes, it's going to be all over. He's going to go. He can't stay in power. It won't happen. It won't happen, so vote. Just make sure you understand, you have it in your control to determine what this country is going to look like the next four years. Is it going to change, or are you going to get four more years of these lies? I am concerned that any court would settle this, because here's the deal. When you get a ballot and you fill it out, you're supposed to have an affidavit. If you didn't know, you have someone say that, this is me. You should be able to, if in fact you can verify that's you before the ballot is thrown out, that's sufficient to be able to count the ballot because someone made a mistake and not dotting the correct I. Who they voted for, testify, say who they voted for, say it's you. That is totally legitimate. Yes. And here's the deal. We count the ballots, as you pointed out. Some of these ballots in some states can't even be opened until election day. And if there's thousands of ballots, it's going to take time to do it. And by the way, our military... They've been voting by ballots since the end of the Civil War, in effect. And that's what's going to happen. Why is it, for them, somehow not fraudulent. It's the same process. It's honest. No one has established at all that there is fraud related to mail-in ballots, that somehow it's a fraudulent process. Make sure you, in fact, let people know, your Senators. Good luck. 200,000 dead. As you said, over seven million infected in the United States. We, in fact, have 4% of the world's population, 20% of the deaths. 40,000 people a day are contracting COVID. In addition to that, about between 750 and 1000 people a day are dying. When he was presented with that number, he said, It is what it is. Well, it is what it is because you are who you are. That's why it is. The President has no plan. He hasn't laid out anything. He knew all the way back in February how serious this crisis was. He knew it was a deadly disease. What did he do? He's on tape as acknowledging he knew it. He said he didn't tell us or give people a warning of it because he didn't want to panic the American people. You don't panic. He panicked. In addition to that, what did he do? Do you believe for a moment what he's telling you in light of all the lies he's told you about the whole issue relating to COVID? He still hasn't even acknowledged that he knew this was happening, knew how dangerous it was going to be back in February, and he didn't even tell you. He's on record as saying it. He panicked or he just looked at the stock market. One of the two. Because guess what? A lot of people died and a lot more are going to die unless he gets a lot smarter, a lot quicker- He has no idea what he's talking about. Here's the deal. The fact is, I will accept it, and he will too. You know why? Because once the winner is declared after all the ballots are counted, all the votes are counted, that'll be the end of it. That'll be the end of it. And if it's me, in fact, fine. If it's not me, I'll support the outcome. And I'll be a president, not just for the Democrats. I'll be a president for Democrats and Republicans. And this guy-\n"
     ]
    }
   ],
   "source": [
    "biden_gold_df = pd.read_csv('data/annotated/bidenAnnotated.csv')\n",
    "print(len(biden_gold_df[biden_gold_df.gold == 1]))\n",
    "biden_gold_summ = ' '.join(biden_gold_df[biden_gold_df.gold == 1]['text'].tolist())\n",
    "print(biden_gold_summ)"
   ]
  },
  {
   "cell_type": "code",
   "execution_count": 62,
   "metadata": {},
   "outputs": [
    {
     "name": "stdout",
     "output_type": "stream",
     "text": [
      "73\n"
     ]
    }
   ],
   "source": [
    "trump_gold_df = pd.read_csv('data/annotated/trumpAnnotated.csv')\n",
    "print(len(trump_gold_df[trump_gold_df.gold == 1]))\n",
    "trump_gold_summ = ' '.join(trump_gold_df[trump_gold_df.gold == 1]['text'].tolist())"
   ]
  },
  {
   "cell_type": "code",
   "execution_count": 79,
   "metadata": {},
   "outputs": [
    {
     "name": "stdout",
     "output_type": "stream",
     "text": [
      "number of words in biden transcript: 6539\n",
      "number of words in biden gold summary: 4958\n",
      "number of words in biden baseline: 1089\n",
      "number of words in biden lexrank: 1166\n"
     ]
    }
   ],
   "source": [
    "biden_all = ' '.join(biden_gold_df['text'].tolist())\n",
    "print('number of words in biden transcript: {}'.format(len(biden_all.split())))\n",
    "print('number of words in biden gold summary: {}'.format(len(biden_gold_summ.split())))\n",
    "print('number of words in biden baseline: {}'.format(len(biden_baseline.split())))\n",
    "print('number of words in biden lexrank: {}'.format(len(biden_lr.split())))"
   ]
  },
  {
   "cell_type": "code",
   "execution_count": 74,
   "metadata": {},
   "outputs": [
    {
     "name": "stdout",
     "output_type": "stream",
     "text": [
      "7145\n",
      "4804\n",
      "1021\n"
     ]
    }
   ],
   "source": [
    "trump_all = ' '.join(trump_gold_df['text'].tolist())\n",
    "print(len(trump_all.split()))\n",
    "print(len(trump_gold_summ.split()))\n",
    "print(len(trump_baseline.split()))\n",
    "# print(len(trump_lr))"
   ]
  },
  {
   "cell_type": "code",
   "execution_count": null,
   "metadata": {},
   "outputs": [],
   "source": []
  }
 ],
 "metadata": {
  "kernelspec": {
   "display_name": "Python 3",
   "language": "python",
   "name": "python3"
  },
  "language_info": {
   "codemirror_mode": {
    "name": "ipython",
    "version": 3
   },
   "file_extension": ".py",
   "mimetype": "text/x-python",
   "name": "python",
   "nbconvert_exporter": "python",
   "pygments_lexer": "ipython3",
   "version": "3.7.5"
  }
 },
 "nbformat": 4,
 "nbformat_minor": 4
}
