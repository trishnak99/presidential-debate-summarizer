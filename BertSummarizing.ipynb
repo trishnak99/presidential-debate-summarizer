{
  "nbformat": 4,
  "nbformat_minor": 0,
  "metadata": {
    "colab": {
      "name": "bertTest",
      "provenance": []
    },
    "kernelspec": {
      "name": "python3",
      "display_name": "Python 3"
    },
    "accelerator": "GPU"
  },
  "cells": [
    {
      "cell_type": "markdown",
      "metadata": {
        "id": "S3RhXOzuwACi"
      },
      "source": [
        "#BERT Extractive Summarization"
      ]
    },
    {
      "cell_type": "markdown",
      "metadata": {
        "id": "bM4uk0EDvbO5"
      },
      "source": [
        "##Set up BERT Summarizer and Data"
      ]
    },
    {
      "cell_type": "code",
      "metadata": {
        "id": "6nohFn6t3T09"
      },
      "source": [
        "from summarizer import Summarizer\n",
        "import pandas as pd\n",
        "import os\n",
        "\n",
        "cluster_dir = \"data/clusters\"\n",
        "summary_dir = \"data/summaries\""
      ],
      "execution_count": 16,
      "outputs": []
    },
    {
      "cell_type": "code",
      "metadata": {
        "id": "eB4oyQVYEpSj"
      },
      "source": [
        "biden_df = pd.read_csv(cluster_dir + '/bidenSentenceClusters.csv')\n",
        "trump_df = pd.read_csv(cluster_dir + '/trumpSentenceClusters.csv')"
      ],
      "execution_count": 17,
      "outputs": []
    },
    {
      "cell_type": "code",
      "metadata": {
        "id": "DJPahI8q9Lcq"
      },
      "source": [
        "pd.set_option('display.max_colwidth', None)\n",
        "model = Summarizer()"
      ],
      "execution_count": 18,
      "outputs": []
    },
    {
      "cell_type": "markdown",
      "metadata": {
        "id": "5kHr6_s1vhYR"
      },
      "source": [
        "##Biden Summaries"
      ]
    },
    {
      "cell_type": "code",
      "metadata": {
        "id": "BMT0gJJgGtBr",
        "colab": {
          "base_uri": "https://localhost:8080/"
        },
        "outputId": "ccd8070a-4111-44be-bccd-2d54574f0083"
      },
      "source": [
        "biden_summaries = \"\"\n",
        "for i in range(6):\n",
        "  biden_df_pre = biden_df[biden_df['cluster'] == i].sentence\n",
        "  bs = ' '.join(biden_df_pre.to_list())\n",
        "\n",
        "  result = model(bs, ratio=0.3)  # Specified with ratio\n",
        "  print( \"Cluster: \", i)\n",
        "  print(result)\n",
        "  biden_summaries += result\n",
        "  biden_summaries += \"\\n\\n\"\n",
        "\n",
        "biden_file = open(summary_dir + \"/biden_bert.txt\", \"w\")\n",
        "biden_file.write(biden_summaries)\n",
        "biden_file.close()"
      ],
      "execution_count": 19,
      "outputs": [
        {
          "output_type": "stream",
          "text": [
            "Cluster:  0\n",
            "He's in the Supreme Court right now trying to get rid of the Affordable Care Act, which will strip 20 million people from having health insurance now, if it goes into court. Donald would you just be quiet for a minute. I'm going to get very lucky tonight as well. He has Executive Orders that have no power. No more than the question you just asked him. You pointed out he puts pressure and disagrees with his own scientists. Yeah, because what he did, even before COVID, manufacturing went in the hole. By the World Bank- By everyone, has discredited. A young woman got killed and they asked the president what he thought. ... Look, what I support are the police having the opportunity to deal with the problems they face and I'm totally opposed to defunding the police offices. Nobody's going to build another coal fired plant in America. And If you don't, then you're going to have significant economic consequences. You can now emit more methane without it being a problem. We spend billions of dollars now, billions of dollars, on floods, hurricanes, rising seas. If it doesn't get in until the seventh, eighth, ninth, it still should be counted. He's just afraid of counting the votes- When you get a ballot and you fill it out, you're supposed to have an affidavit.\n",
            "Cluster:  1\n",
            "We should wait and see what the outcome of this election is because that's the only way the American people get to express their view is by who they elect as President and who they elect as Vice President. The vast majority of the American people would still not be in that option. 40,000 people a day are contracting COVID. A lot of people died and a lot more are going to die unless he gets a lot smarter, a lot quicker- He's not worried about the people out there  . He ought to get on the job and take care of the needs of the American people so we can open safely. Look, the tax code that put him in a position that he pays less tax than on the money a school teacher makes is because of him... He says he's smart because he can take advantage of the tax code. It is true, the reason I got in the race is when those people... Close your eyes, remember what those people look like coming out of the fields, carrying torches, their veins bulging, just spewing anti-Semitic bile and accompanied by the Ku Klux Klan. People have to be made aware of what other people feel like, what insults them, what is demeaning to them. They look down on people who don't have money. We have to have community policing like we had before where the officers get to know the people in the communities. He was a Patriot and the people left behind there were heroes. My son like a lot of people at home had a drug problem. The fact is, it's going to create millions of good paying jobs, and these tax incentives for people to weatherize, which he wants to get rid of. And this is all about trying to dissuade people from voting because he's trying to scare people into thinking that it's not going to be legitimate.\n",
            "Cluster:  2\n",
            "The American people have a right to have a say in who the Supreme Court nominee is and that say occurs when they vote for United States Senators and when they vote for the President of United States. Vote and let your Senators know strongly how you feel. If you're able to vote in person, vote in person. Because once the winner is declared after all the ballots are counted, all the votes are counted, that'll be the end of it.\n",
            "Cluster:  3\n",
            "Well, first of all, thank you for doing this and looking forward to this, Mr. President. He's been running on that, he ran on that and he's been governing on that. They're able to charge women more for the same exact procedure a man gets. What I proposed is that we expand Obamacare and we increase it. He told us what a great job Xi was doing. I laid out back in March, exactly what we should be doing. We should be providing all the protective gear possible. And there was no one ... We didn't shut down the economy. The reason it's shut down is because, look, you folks at home. This is the same man who told you- This is the same man. Well, that's what he's going to try to do, but there's thousands of scientists out there, like here at this great hospital that don't work for him. You have to provide them classic- Will he just shush for a minute? Fewer jobs than when he became president. And the idea that he is insisting that we go forward and open when you have almost half the states in America with a significant increase in COVID deaths and COVID cases in the United States of America, and he wants to open it up more. Because it costs a lot of money to open them safely. Because you weren't president- You're the worst president America has ever had. Well, just take a look at what is the analysis done by Wall Street firms, points out that my economic plan would create 7 million more jobs than his in four years, number one. And so you take a look at what he's actually done. This is a president who has used everything as a dog whistle, to try to generate racists hatred, racist division. They risk their lives every day to take care of us, but there are some bad apples. And what I'm going to do as President of the United States is call together an entire group of people at the White House, everything from the civil rights groups, to the police officers, to the police chiefs, and we're going to work this out. These cops aren't happy to see what happened to George Floyd. I've made it clear in my public statements that the violence should be prosecuted. It should be prosecuted and anyone who committed it should be prosecuted. Every body in your administration tells you the true, it's a bad idea. They're going to move to renewable energy. The rainforests of Brazil are being torn down, are being ripped down. That is not- Simply... Look- That is simply not the case- What it's going to do, it's going to create thousands and millions of jobs. He cannot stop you from being able to determine the outcome of this election. Is it going to change, or are you going to get four more years of these lies? Some of these ballots in some states can't even be opened until election day. And if there's thousands of ballots, it's going to take time to do it.\n",
            "Cluster:  4\n",
            "That's not true he was not dishonorably discharged.\n",
            "Cluster:  5\n",
            "And that ended when we, in fact, passed the Affordable Care Act, and there's a hundred million people who have pre-existing conditions and they'll be taken away as well. The fact of the matter is I beat Bernie Sanders. The fact is that everything he's saying so far is simply a lie. Make sure you, in fact, let people know, your Senators. They're the people... And by the way- By the way- He's on record as saying it. That's what he said, I'm going to be okay. People who've been putting themselves in the way to make sure that we could all try to make it. And matter of fact   Matter of fact- ... testified under oath in his administration said I did my job and I did it very well. The Bishop of that very church said that it was a disgrace. This is a man who, in fact, you talk about helping African-Americans, one in 1000 African Americans has been killed because of the coronavirus. The only way we're going to bring this country together is bring everybody together. As a matter of fact police, local police, the only one defunding in his budget calls for a $400 million cut in local law enforcement assistance. Not 15 bucks an hour, but prevailing wage, by having a new infrastructure that in fact, is green. This is the guy who says that, the fact that- He said, maybe we should drop a nuclear weapon on them, and they may- We're not going to build plants that, in fact, are great polluting plants- His own Homeland Security director, and as well as the FBI director, says that there is no evidence at all that mail-in ballots are a source of being manipulated and cheating. What they're saying is that it has to be a postmark by election day. And by the way, our military... The fact is, I will accept it, and he will too.\n"
          ],
          "name": "stdout"
        }
      ]
    },
    {
      "cell_type": "markdown",
      "metadata": {
        "id": "BTGjrd9IvyHP"
      },
      "source": [
        "##Trump Summaries"
      ]
    },
    {
      "cell_type": "code",
      "metadata": {
        "id": "W2r1AkbwEsox",
        "colab": {
          "base_uri": "https://localhost:8080/"
        },
        "outputId": "ba7ace00-d51a-4dda-adc3-fb94e9e7f13f"
      },
      "source": [
        "trump_summaries = \"\"\n",
        "for i in range(6):\n",
        "  trump_df_pre = trump_df[trump_df['cluster'] == i].sentence\n",
        "  ts = ' '.join(trump_df_pre.to_list())\n",
        "\n",
        "  result = model(ts, ratio=0.3)  # Specified with ratio\n",
        "  print( \"Cluster: \", i)\n",
        "  print(result)\n",
        "  trump_summaries += result\n",
        "  trump_summaries += \"\\n\\n\"\n",
        "\n",
        "trump_file = open(summary_dir + \"/trump_bert.txt\", \"w\")\n",
        "trump_file.write(trump_summaries)\n",
        "trump_file.close()"
      ],
      "execution_count": 20,
      "outputs": [
        {
          "output_type": "stream",
          "text": [
            "Cluster:  0\n",
            "Chris, that was the worst part of Obamacare. We don't need somebody to come in and say, Let's shut it down. Law enforcement, almost every law enforcement group in the United States. Why don't you say the words law enforcement? And I'll tell you what, the people of this country want and demand law and order and you're afraid to even say it. ... So don't tell me about a free transition. And I'll tell you why- I'll tell you what it means-\n",
            "Cluster:  1\n",
            "Okay, Justice Ginsburg said very powerfully, very strongly, at some point 10 years ago or so, she said a President and the Senate is elected for a period of time, but a President is elected for four years. Why didn't you do it over the last 25 years? Ohio had the best year it's ever had last year. Because you look back at your testimony over the years, you've called them a lot worse than that.\n",
            "Cluster:  2\n",
            "We have the Senate, we have the White House, and we have a phenomenal nominee respected by all. And probably that would happen in reverse, also. You're going to socialist- Your party doesn't say it. You would have been much later, Joe, much later. I got rid of the individual mandate, which was a big chunk of Obamacare. Prescription drug prices, we're going to allow our Governors now to go to other countries to buy drugs because when they paid just a tiny fraction of what we do. If Pocahontas would have left two days early you would have lost every primary. We made it better and I had a choice to make very early on. Premiums are too high, that it doesn't work. You wouldn't have closed it for another two months. They give you good press, they give me bad press because that's the way it is, unfortunately. Well, you didn't do very well in Swine Flu. You don't trust Johnson & Johnson, Pfizer? Well, we're going to deliver it right away. We have our military that delivers soldiers and they can do 200,000 a day. They're going to be delivering- It's all set up. You'll have the vaccine sooner than that. I will say this- They've also said- Dr. Fauci. We do them outside, we have tremendous crowds, as you see, and literally on 24 hours notice. So we built the greatest economy in history. When the plague came in, we closed it down, which was very hard psychologically to do. They can wash their hands, they can wear masks. You're talking about almost it's like being in prison. By the way, I brought back Big Ten football. It was me and I'm very happy to do it- You'll see it as soon as it's finished, you'll see it. Also, they took over something that was down here. Half of the companies that have poured in here will leave. They will leave and you will have a depression, the likes of which you've never seen. So- You did a crime bill, 1994, where you call them super predators. So you did that and they call you a super predator and I'm letting people out of jail now, that you have treated the African-American population community, you have treated the black community about as bad as anybody in this country. If you look at Chicago, if you look at any place you want to look, Seattle, they heard we were coming in the following day and they put up their hands and we got back Seattle. That's not what they are talking about this. The greatest, before COVID came in the greatest economy in history, lowest unemployment numbers, everything was good. They left 128 openings and if I were a member of his party, because they have a little different philosophy, I'd say, if you left us 128 openings you can't be a good president. He was thrown out dishonorably discharged. Once you became vice president he made a fortune in Ukraine, in China, in Moscow and various other places. We have now the lowest carbon... If you look at our numbers right now, we are doing phenomenally. Our businesses aren't put out of commission. You drop a cigarette in there the whole forest burns down. I was with the head of a major country, it's a forest city. I'm getting along very well with the governor. That's burning down because of a lack of management. Well, not really because what's happening is the car is much less expensive and it's a much safer car and you talk it about a tiny difference. The car has gotten so expensive because they have computers all over the place for an extra little bit of gasoline. Not true- He's talking about the Green New Deal. This is a 100 trillion- You were vice president- So why didn't you get the world... China sends up real dirt into the air. The Green New Deal is a hundred trillion dollars. You're on tape- Oh, well, that's a big statement. So when I listen to Joe talking about a transition, there has been no transition from when I won. And if you look at crooked Hillary Clinton, if you look at all of the different people, there was no transition, because they came after me trying to do a coup. They came after me spying on my campaign. From the day I came down the escalator with our first lady, they were a disaster. A solicited ballot, okay, solicited, is okay. Take a look at what happened in New Jersey. We have major states   with that- ... all run by Democrats- All run by Democrats. This is a horrible thing for our country. This is not going to end well- I love counting the votes  - Chris, he's so wrong when he makes a statement like that- Excuse me  - Could be months- I'm urging my supporters to go in to the polls and watch very carefully, because that's what has to happen. from a common sense- They're not equipped... Number two, they cheat.\n",
            "Cluster:  3\n",
            "I paid millions of dollars in taxes, millions of dollars of income tax. Well wait, he didn't get three and a half million dollars, Joe? He got three and a half million dollars from Moscow.\n",
            "Cluster:  4\n",
            "That's not what you've said and it's not what your party is saying. But if you look at what we've done, I closed it and you said, He's xenophobic. By my doing it early, in fact, Dr. Fauci said, President Trump saved thousands of lives. He said it could be there, but it could also be much sooner. That was said sarcastically, and you know that. He said very strongly, Masks are not good.\n",
            "Cluster:  5\n",
            "Even if we did it after the election itself. Chris, we want to get rid of that and give something that's cheaper and better. Those states are not doing well that are shut down right now. They'll be careful, but they want their schools open. If you got in, if you ever became president with your ideas, you want to terminate my taxes. But I don't want to accept the National Guard. Give me a name, give me a name, go ahead who do you want me to condemn. On November 3rd, you're watching, and you see who won the election. An election could be won or lost with that.\n"
          ],
          "name": "stdout"
        }
      ]
    },
    {
      "cell_type": "code",
      "metadata": {
        "id": "BRzHlBAUhQx2"
      },
      "source": [
        ""
      ],
      "execution_count": null,
      "outputs": []
    }
  ]
}