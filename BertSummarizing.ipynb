{
  "nbformat": 4,
  "nbformat_minor": 0,
  "metadata": {
    "colab": {
      "name": "bertTest",
      "provenance": [],
      "toc_visible": true
    },
    "kernelspec": {
      "name": "python3",
      "display_name": "Python 3"
    },
    "accelerator": "GPU",
    "widgets": {
      "application/vnd.jupyter.widget-state+json": {
        "308125852feb4c17a48c57894b2784ae": {
          "model_module": "@jupyter-widgets/controls",
          "model_name": "HBoxModel",
          "state": {
            "_view_name": "HBoxView",
            "_dom_classes": [],
            "_model_name": "HBoxModel",
            "_view_module": "@jupyter-widgets/controls",
            "_model_module_version": "1.5.0",
            "_view_count": null,
            "_view_module_version": "1.5.0",
            "box_style": "",
            "layout": "IPY_MODEL_f007912345d849f19c58ff8cd8c36fb8",
            "_model_module": "@jupyter-widgets/controls",
            "children": [
              "IPY_MODEL_c5dd8364aabc48d6b70fc150365ead73",
              "IPY_MODEL_45c189f6e9664148a33e90018ea579bd"
            ]
          }
        },
        "f007912345d849f19c58ff8cd8c36fb8": {
          "model_module": "@jupyter-widgets/base",
          "model_name": "LayoutModel",
          "state": {
            "_view_name": "LayoutView",
            "grid_template_rows": null,
            "right": null,
            "justify_content": null,
            "_view_module": "@jupyter-widgets/base",
            "overflow": null,
            "_model_module_version": "1.2.0",
            "_view_count": null,
            "flex_flow": null,
            "width": null,
            "min_width": null,
            "border": null,
            "align_items": null,
            "bottom": null,
            "_model_module": "@jupyter-widgets/base",
            "top": null,
            "grid_column": null,
            "overflow_y": null,
            "overflow_x": null,
            "grid_auto_flow": null,
            "grid_area": null,
            "grid_template_columns": null,
            "flex": null,
            "_model_name": "LayoutModel",
            "justify_items": null,
            "grid_row": null,
            "max_height": null,
            "align_content": null,
            "visibility": null,
            "align_self": null,
            "height": null,
            "min_height": null,
            "padding": null,
            "grid_auto_rows": null,
            "grid_gap": null,
            "max_width": null,
            "order": null,
            "_view_module_version": "1.2.0",
            "grid_template_areas": null,
            "object_position": null,
            "object_fit": null,
            "grid_auto_columns": null,
            "margin": null,
            "display": null,
            "left": null
          }
        },
        "c5dd8364aabc48d6b70fc150365ead73": {
          "model_module": "@jupyter-widgets/controls",
          "model_name": "FloatProgressModel",
          "state": {
            "_view_name": "ProgressView",
            "style": "IPY_MODEL_e0fd6fa87f124785b4cae455f1a82e3b",
            "_dom_classes": [],
            "description": "Downloading: 100%",
            "_model_name": "FloatProgressModel",
            "bar_style": "success",
            "max": 434,
            "_view_module": "@jupyter-widgets/controls",
            "_model_module_version": "1.5.0",
            "value": 434,
            "_view_count": null,
            "_view_module_version": "1.5.0",
            "orientation": "horizontal",
            "min": 0,
            "description_tooltip": null,
            "_model_module": "@jupyter-widgets/controls",
            "layout": "IPY_MODEL_4848867b6f2f4c99ab847ef34cf4bfd6"
          }
        },
        "45c189f6e9664148a33e90018ea579bd": {
          "model_module": "@jupyter-widgets/controls",
          "model_name": "HTMLModel",
          "state": {
            "_view_name": "HTMLView",
            "style": "IPY_MODEL_6b49573ff53b4e84b5ee1fd2a683b31c",
            "_dom_classes": [],
            "description": "",
            "_model_name": "HTMLModel",
            "placeholder": "​",
            "_view_module": "@jupyter-widgets/controls",
            "_model_module_version": "1.5.0",
            "value": " 434/434 [00:00&lt;00:00, 1.19kB/s]",
            "_view_count": null,
            "_view_module_version": "1.5.0",
            "description_tooltip": null,
            "_model_module": "@jupyter-widgets/controls",
            "layout": "IPY_MODEL_e3ca54bb053b46b69d4fc6674d7438e1"
          }
        },
        "e0fd6fa87f124785b4cae455f1a82e3b": {
          "model_module": "@jupyter-widgets/controls",
          "model_name": "ProgressStyleModel",
          "state": {
            "_view_name": "StyleView",
            "_model_name": "ProgressStyleModel",
            "description_width": "initial",
            "_view_module": "@jupyter-widgets/base",
            "_model_module_version": "1.5.0",
            "_view_count": null,
            "_view_module_version": "1.2.0",
            "bar_color": null,
            "_model_module": "@jupyter-widgets/controls"
          }
        },
        "4848867b6f2f4c99ab847ef34cf4bfd6": {
          "model_module": "@jupyter-widgets/base",
          "model_name": "LayoutModel",
          "state": {
            "_view_name": "LayoutView",
            "grid_template_rows": null,
            "right": null,
            "justify_content": null,
            "_view_module": "@jupyter-widgets/base",
            "overflow": null,
            "_model_module_version": "1.2.0",
            "_view_count": null,
            "flex_flow": null,
            "width": null,
            "min_width": null,
            "border": null,
            "align_items": null,
            "bottom": null,
            "_model_module": "@jupyter-widgets/base",
            "top": null,
            "grid_column": null,
            "overflow_y": null,
            "overflow_x": null,
            "grid_auto_flow": null,
            "grid_area": null,
            "grid_template_columns": null,
            "flex": null,
            "_model_name": "LayoutModel",
            "justify_items": null,
            "grid_row": null,
            "max_height": null,
            "align_content": null,
            "visibility": null,
            "align_self": null,
            "height": null,
            "min_height": null,
            "padding": null,
            "grid_auto_rows": null,
            "grid_gap": null,
            "max_width": null,
            "order": null,
            "_view_module_version": "1.2.0",
            "grid_template_areas": null,
            "object_position": null,
            "object_fit": null,
            "grid_auto_columns": null,
            "margin": null,
            "display": null,
            "left": null
          }
        },
        "6b49573ff53b4e84b5ee1fd2a683b31c": {
          "model_module": "@jupyter-widgets/controls",
          "model_name": "DescriptionStyleModel",
          "state": {
            "_view_name": "StyleView",
            "_model_name": "DescriptionStyleModel",
            "description_width": "",
            "_view_module": "@jupyter-widgets/base",
            "_model_module_version": "1.5.0",
            "_view_count": null,
            "_view_module_version": "1.2.0",
            "_model_module": "@jupyter-widgets/controls"
          }
        },
        "e3ca54bb053b46b69d4fc6674d7438e1": {
          "model_module": "@jupyter-widgets/base",
          "model_name": "LayoutModel",
          "state": {
            "_view_name": "LayoutView",
            "grid_template_rows": null,
            "right": null,
            "justify_content": null,
            "_view_module": "@jupyter-widgets/base",
            "overflow": null,
            "_model_module_version": "1.2.0",
            "_view_count": null,
            "flex_flow": null,
            "width": null,
            "min_width": null,
            "border": null,
            "align_items": null,
            "bottom": null,
            "_model_module": "@jupyter-widgets/base",
            "top": null,
            "grid_column": null,
            "overflow_y": null,
            "overflow_x": null,
            "grid_auto_flow": null,
            "grid_area": null,
            "grid_template_columns": null,
            "flex": null,
            "_model_name": "LayoutModel",
            "justify_items": null,
            "grid_row": null,
            "max_height": null,
            "align_content": null,
            "visibility": null,
            "align_self": null,
            "height": null,
            "min_height": null,
            "padding": null,
            "grid_auto_rows": null,
            "grid_gap": null,
            "max_width": null,
            "order": null,
            "_view_module_version": "1.2.0",
            "grid_template_areas": null,
            "object_position": null,
            "object_fit": null,
            "grid_auto_columns": null,
            "margin": null,
            "display": null,
            "left": null
          }
        },
        "9d185d1170a440bc8692343f3191b864": {
          "model_module": "@jupyter-widgets/controls",
          "model_name": "HBoxModel",
          "state": {
            "_view_name": "HBoxView",
            "_dom_classes": [],
            "_model_name": "HBoxModel",
            "_view_module": "@jupyter-widgets/controls",
            "_model_module_version": "1.5.0",
            "_view_count": null,
            "_view_module_version": "1.5.0",
            "box_style": "",
            "layout": "IPY_MODEL_ba8accbf810f43d0a7415cc6de9cd058",
            "_model_module": "@jupyter-widgets/controls",
            "children": [
              "IPY_MODEL_b6dc33b03bb84b138863936ba61db6ab",
              "IPY_MODEL_88712dd311f04fa6853df332cc964751"
            ]
          }
        },
        "ba8accbf810f43d0a7415cc6de9cd058": {
          "model_module": "@jupyter-widgets/base",
          "model_name": "LayoutModel",
          "state": {
            "_view_name": "LayoutView",
            "grid_template_rows": null,
            "right": null,
            "justify_content": null,
            "_view_module": "@jupyter-widgets/base",
            "overflow": null,
            "_model_module_version": "1.2.0",
            "_view_count": null,
            "flex_flow": null,
            "width": null,
            "min_width": null,
            "border": null,
            "align_items": null,
            "bottom": null,
            "_model_module": "@jupyter-widgets/base",
            "top": null,
            "grid_column": null,
            "overflow_y": null,
            "overflow_x": null,
            "grid_auto_flow": null,
            "grid_area": null,
            "grid_template_columns": null,
            "flex": null,
            "_model_name": "LayoutModel",
            "justify_items": null,
            "grid_row": null,
            "max_height": null,
            "align_content": null,
            "visibility": null,
            "align_self": null,
            "height": null,
            "min_height": null,
            "padding": null,
            "grid_auto_rows": null,
            "grid_gap": null,
            "max_width": null,
            "order": null,
            "_view_module_version": "1.2.0",
            "grid_template_areas": null,
            "object_position": null,
            "object_fit": null,
            "grid_auto_columns": null,
            "margin": null,
            "display": null,
            "left": null
          }
        },
        "b6dc33b03bb84b138863936ba61db6ab": {
          "model_module": "@jupyter-widgets/controls",
          "model_name": "FloatProgressModel",
          "state": {
            "_view_name": "ProgressView",
            "style": "IPY_MODEL_69f77f8be18f495ca25f4bd97312fa46",
            "_dom_classes": [],
            "description": "Downloading: 100%",
            "_model_name": "FloatProgressModel",
            "bar_style": "success",
            "max": 1344997306,
            "_view_module": "@jupyter-widgets/controls",
            "_model_module_version": "1.5.0",
            "value": 1344997306,
            "_view_count": null,
            "_view_module_version": "1.5.0",
            "orientation": "horizontal",
            "min": 0,
            "description_tooltip": null,
            "_model_module": "@jupyter-widgets/controls",
            "layout": "IPY_MODEL_b5130a9aa4ec4bc489869a3690da90f7"
          }
        },
        "88712dd311f04fa6853df332cc964751": {
          "model_module": "@jupyter-widgets/controls",
          "model_name": "HTMLModel",
          "state": {
            "_view_name": "HTMLView",
            "style": "IPY_MODEL_cb818efae8e543f1b10d2c4d5ab5700d",
            "_dom_classes": [],
            "description": "",
            "_model_name": "HTMLModel",
            "placeholder": "​",
            "_view_module": "@jupyter-widgets/controls",
            "_model_module_version": "1.5.0",
            "value": " 1.34G/1.34G [01:30&lt;00:00, 14.9MB/s]",
            "_view_count": null,
            "_view_module_version": "1.5.0",
            "description_tooltip": null,
            "_model_module": "@jupyter-widgets/controls",
            "layout": "IPY_MODEL_3613617f1a2843b3b72aab7b9f1cb3f4"
          }
        },
        "69f77f8be18f495ca25f4bd97312fa46": {
          "model_module": "@jupyter-widgets/controls",
          "model_name": "ProgressStyleModel",
          "state": {
            "_view_name": "StyleView",
            "_model_name": "ProgressStyleModel",
            "description_width": "initial",
            "_view_module": "@jupyter-widgets/base",
            "_model_module_version": "1.5.0",
            "_view_count": null,
            "_view_module_version": "1.2.0",
            "bar_color": null,
            "_model_module": "@jupyter-widgets/controls"
          }
        },
        "b5130a9aa4ec4bc489869a3690da90f7": {
          "model_module": "@jupyter-widgets/base",
          "model_name": "LayoutModel",
          "state": {
            "_view_name": "LayoutView",
            "grid_template_rows": null,
            "right": null,
            "justify_content": null,
            "_view_module": "@jupyter-widgets/base",
            "overflow": null,
            "_model_module_version": "1.2.0",
            "_view_count": null,
            "flex_flow": null,
            "width": null,
            "min_width": null,
            "border": null,
            "align_items": null,
            "bottom": null,
            "_model_module": "@jupyter-widgets/base",
            "top": null,
            "grid_column": null,
            "overflow_y": null,
            "overflow_x": null,
            "grid_auto_flow": null,
            "grid_area": null,
            "grid_template_columns": null,
            "flex": null,
            "_model_name": "LayoutModel",
            "justify_items": null,
            "grid_row": null,
            "max_height": null,
            "align_content": null,
            "visibility": null,
            "align_self": null,
            "height": null,
            "min_height": null,
            "padding": null,
            "grid_auto_rows": null,
            "grid_gap": null,
            "max_width": null,
            "order": null,
            "_view_module_version": "1.2.0",
            "grid_template_areas": null,
            "object_position": null,
            "object_fit": null,
            "grid_auto_columns": null,
            "margin": null,
            "display": null,
            "left": null
          }
        },
        "cb818efae8e543f1b10d2c4d5ab5700d": {
          "model_module": "@jupyter-widgets/controls",
          "model_name": "DescriptionStyleModel",
          "state": {
            "_view_name": "StyleView",
            "_model_name": "DescriptionStyleModel",
            "description_width": "",
            "_view_module": "@jupyter-widgets/base",
            "_model_module_version": "1.5.0",
            "_view_count": null,
            "_view_module_version": "1.2.0",
            "_model_module": "@jupyter-widgets/controls"
          }
        },
        "3613617f1a2843b3b72aab7b9f1cb3f4": {
          "model_module": "@jupyter-widgets/base",
          "model_name": "LayoutModel",
          "state": {
            "_view_name": "LayoutView",
            "grid_template_rows": null,
            "right": null,
            "justify_content": null,
            "_view_module": "@jupyter-widgets/base",
            "overflow": null,
            "_model_module_version": "1.2.0",
            "_view_count": null,
            "flex_flow": null,
            "width": null,
            "min_width": null,
            "border": null,
            "align_items": null,
            "bottom": null,
            "_model_module": "@jupyter-widgets/base",
            "top": null,
            "grid_column": null,
            "overflow_y": null,
            "overflow_x": null,
            "grid_auto_flow": null,
            "grid_area": null,
            "grid_template_columns": null,
            "flex": null,
            "_model_name": "LayoutModel",
            "justify_items": null,
            "grid_row": null,
            "max_height": null,
            "align_content": null,
            "visibility": null,
            "align_self": null,
            "height": null,
            "min_height": null,
            "padding": null,
            "grid_auto_rows": null,
            "grid_gap": null,
            "max_width": null,
            "order": null,
            "_view_module_version": "1.2.0",
            "grid_template_areas": null,
            "object_position": null,
            "object_fit": null,
            "grid_auto_columns": null,
            "margin": null,
            "display": null,
            "left": null
          }
        },
        "da6f32f74110422286a3232dc22e7c8e": {
          "model_module": "@jupyter-widgets/controls",
          "model_name": "HBoxModel",
          "state": {
            "_view_name": "HBoxView",
            "_dom_classes": [],
            "_model_name": "HBoxModel",
            "_view_module": "@jupyter-widgets/controls",
            "_model_module_version": "1.5.0",
            "_view_count": null,
            "_view_module_version": "1.5.0",
            "box_style": "",
            "layout": "IPY_MODEL_253e8f935d46475ea820809f05be73bf",
            "_model_module": "@jupyter-widgets/controls",
            "children": [
              "IPY_MODEL_683a10e27f9a4fcca5bf0d934a1b33de",
              "IPY_MODEL_b7bb00edb15741d2bf7a5ef693b2d8a2"
            ]
          }
        },
        "253e8f935d46475ea820809f05be73bf": {
          "model_module": "@jupyter-widgets/base",
          "model_name": "LayoutModel",
          "state": {
            "_view_name": "LayoutView",
            "grid_template_rows": null,
            "right": null,
            "justify_content": null,
            "_view_module": "@jupyter-widgets/base",
            "overflow": null,
            "_model_module_version": "1.2.0",
            "_view_count": null,
            "flex_flow": null,
            "width": null,
            "min_width": null,
            "border": null,
            "align_items": null,
            "bottom": null,
            "_model_module": "@jupyter-widgets/base",
            "top": null,
            "grid_column": null,
            "overflow_y": null,
            "overflow_x": null,
            "grid_auto_flow": null,
            "grid_area": null,
            "grid_template_columns": null,
            "flex": null,
            "_model_name": "LayoutModel",
            "justify_items": null,
            "grid_row": null,
            "max_height": null,
            "align_content": null,
            "visibility": null,
            "align_self": null,
            "height": null,
            "min_height": null,
            "padding": null,
            "grid_auto_rows": null,
            "grid_gap": null,
            "max_width": null,
            "order": null,
            "_view_module_version": "1.2.0",
            "grid_template_areas": null,
            "object_position": null,
            "object_fit": null,
            "grid_auto_columns": null,
            "margin": null,
            "display": null,
            "left": null
          }
        },
        "683a10e27f9a4fcca5bf0d934a1b33de": {
          "model_module": "@jupyter-widgets/controls",
          "model_name": "FloatProgressModel",
          "state": {
            "_view_name": "ProgressView",
            "style": "IPY_MODEL_28b9154029af4b66a2d494e379ecb9eb",
            "_dom_classes": [],
            "description": "Downloading: 100%",
            "_model_name": "FloatProgressModel",
            "bar_style": "success",
            "max": 231508,
            "_view_module": "@jupyter-widgets/controls",
            "_model_module_version": "1.5.0",
            "value": 231508,
            "_view_count": null,
            "_view_module_version": "1.5.0",
            "orientation": "horizontal",
            "min": 0,
            "description_tooltip": null,
            "_model_module": "@jupyter-widgets/controls",
            "layout": "IPY_MODEL_ad876f5930f645e695194f6147788ae4"
          }
        },
        "b7bb00edb15741d2bf7a5ef693b2d8a2": {
          "model_module": "@jupyter-widgets/controls",
          "model_name": "HTMLModel",
          "state": {
            "_view_name": "HTMLView",
            "style": "IPY_MODEL_4ef39c77aac541b3b039f98c95f45eef",
            "_dom_classes": [],
            "description": "",
            "_model_name": "HTMLModel",
            "placeholder": "​",
            "_view_module": "@jupyter-widgets/controls",
            "_model_module_version": "1.5.0",
            "value": " 232k/232k [00:00&lt;00:00, 792kB/s]",
            "_view_count": null,
            "_view_module_version": "1.5.0",
            "description_tooltip": null,
            "_model_module": "@jupyter-widgets/controls",
            "layout": "IPY_MODEL_353afbce0b3442d4a523daaf5001fbd0"
          }
        },
        "28b9154029af4b66a2d494e379ecb9eb": {
          "model_module": "@jupyter-widgets/controls",
          "model_name": "ProgressStyleModel",
          "state": {
            "_view_name": "StyleView",
            "_model_name": "ProgressStyleModel",
            "description_width": "initial",
            "_view_module": "@jupyter-widgets/base",
            "_model_module_version": "1.5.0",
            "_view_count": null,
            "_view_module_version": "1.2.0",
            "bar_color": null,
            "_model_module": "@jupyter-widgets/controls"
          }
        },
        "ad876f5930f645e695194f6147788ae4": {
          "model_module": "@jupyter-widgets/base",
          "model_name": "LayoutModel",
          "state": {
            "_view_name": "LayoutView",
            "grid_template_rows": null,
            "right": null,
            "justify_content": null,
            "_view_module": "@jupyter-widgets/base",
            "overflow": null,
            "_model_module_version": "1.2.0",
            "_view_count": null,
            "flex_flow": null,
            "width": null,
            "min_width": null,
            "border": null,
            "align_items": null,
            "bottom": null,
            "_model_module": "@jupyter-widgets/base",
            "top": null,
            "grid_column": null,
            "overflow_y": null,
            "overflow_x": null,
            "grid_auto_flow": null,
            "grid_area": null,
            "grid_template_columns": null,
            "flex": null,
            "_model_name": "LayoutModel",
            "justify_items": null,
            "grid_row": null,
            "max_height": null,
            "align_content": null,
            "visibility": null,
            "align_self": null,
            "height": null,
            "min_height": null,
            "padding": null,
            "grid_auto_rows": null,
            "grid_gap": null,
            "max_width": null,
            "order": null,
            "_view_module_version": "1.2.0",
            "grid_template_areas": null,
            "object_position": null,
            "object_fit": null,
            "grid_auto_columns": null,
            "margin": null,
            "display": null,
            "left": null
          }
        },
        "4ef39c77aac541b3b039f98c95f45eef": {
          "model_module": "@jupyter-widgets/controls",
          "model_name": "DescriptionStyleModel",
          "state": {
            "_view_name": "StyleView",
            "_model_name": "DescriptionStyleModel",
            "description_width": "",
            "_view_module": "@jupyter-widgets/base",
            "_model_module_version": "1.5.0",
            "_view_count": null,
            "_view_module_version": "1.2.0",
            "_model_module": "@jupyter-widgets/controls"
          }
        },
        "353afbce0b3442d4a523daaf5001fbd0": {
          "model_module": "@jupyter-widgets/base",
          "model_name": "LayoutModel",
          "state": {
            "_view_name": "LayoutView",
            "grid_template_rows": null,
            "right": null,
            "justify_content": null,
            "_view_module": "@jupyter-widgets/base",
            "overflow": null,
            "_model_module_version": "1.2.0",
            "_view_count": null,
            "flex_flow": null,
            "width": null,
            "min_width": null,
            "border": null,
            "align_items": null,
            "bottom": null,
            "_model_module": "@jupyter-widgets/base",
            "top": null,
            "grid_column": null,
            "overflow_y": null,
            "overflow_x": null,
            "grid_auto_flow": null,
            "grid_area": null,
            "grid_template_columns": null,
            "flex": null,
            "_model_name": "LayoutModel",
            "justify_items": null,
            "grid_row": null,
            "max_height": null,
            "align_content": null,
            "visibility": null,
            "align_self": null,
            "height": null,
            "min_height": null,
            "padding": null,
            "grid_auto_rows": null,
            "grid_gap": null,
            "max_width": null,
            "order": null,
            "_view_module_version": "1.2.0",
            "grid_template_areas": null,
            "object_position": null,
            "object_fit": null,
            "grid_auto_columns": null,
            "margin": null,
            "display": null,
            "left": null
          }
        }
      }
    }
  },
  "cells": [
    {
      "cell_type": "markdown",
      "metadata": {
        "id": "S3RhXOzuwACi"
      },
      "source": [
        "#BERT Extractive Summarization"
      ]
    },
    {
      "cell_type": "markdown",
      "metadata": {
        "id": "bM4uk0EDvbO5"
      },
      "source": [
        "##Set up BERT Summarizer and Data"
      ]
    },
    {
      "cell_type": "code",
      "metadata": {
        "id": "6nohFn6t3T09"
      },
      "source": [
        "from summarizer import Summarizer\n",
        "import pandas as pd\n",
        "import os\n",
        "\n",
        "cluster_dir = \"data/clusters\"\n",
        "summary_dir = \"data/summaries\""
      ],
      "execution_count": 2,
      "outputs": []
    },
    {
      "cell_type": "code",
      "metadata": {
        "id": "eB4oyQVYEpSj"
      },
      "source": [
        "biden_df = pd.read_csv(cluster_dir + '/bidenSentenceClusters.csv')\n",
        "trump_df = pd.read_csv(cluster_dir + '/trumpSentenceClusters.csv')"
      ],
      "execution_count": 3,
      "outputs": []
    },
    {
      "cell_type": "code",
      "metadata": {
        "id": "DJPahI8q9Lcq",
        "colab": {
          "base_uri": "https://localhost:8080/",
          "height": 164,
          "referenced_widgets": [
            "308125852feb4c17a48c57894b2784ae",
            "f007912345d849f19c58ff8cd8c36fb8",
            "c5dd8364aabc48d6b70fc150365ead73",
            "45c189f6e9664148a33e90018ea579bd",
            "e0fd6fa87f124785b4cae455f1a82e3b",
            "4848867b6f2f4c99ab847ef34cf4bfd6",
            "6b49573ff53b4e84b5ee1fd2a683b31c",
            "e3ca54bb053b46b69d4fc6674d7438e1",
            "9d185d1170a440bc8692343f3191b864",
            "ba8accbf810f43d0a7415cc6de9cd058",
            "b6dc33b03bb84b138863936ba61db6ab",
            "88712dd311f04fa6853df332cc964751",
            "69f77f8be18f495ca25f4bd97312fa46",
            "b5130a9aa4ec4bc489869a3690da90f7",
            "cb818efae8e543f1b10d2c4d5ab5700d",
            "3613617f1a2843b3b72aab7b9f1cb3f4",
            "da6f32f74110422286a3232dc22e7c8e",
            "253e8f935d46475ea820809f05be73bf",
            "683a10e27f9a4fcca5bf0d934a1b33de",
            "b7bb00edb15741d2bf7a5ef693b2d8a2",
            "28b9154029af4b66a2d494e379ecb9eb",
            "ad876f5930f645e695194f6147788ae4",
            "4ef39c77aac541b3b039f98c95f45eef",
            "353afbce0b3442d4a523daaf5001fbd0"
          ]
        },
        "outputId": "55bd23c2-2a0a-4930-9f0d-db6c1c4105e9"
      },
      "source": [
        "pd.set_option('display.max_colwidth', None)\n",
        "model = Summarizer()"
      ],
      "execution_count": 4,
      "outputs": [
        {
          "output_type": "display_data",
          "data": {
            "application/vnd.jupyter.widget-view+json": {
              "model_id": "308125852feb4c17a48c57894b2784ae",
              "version_minor": 0,
              "version_major": 2
            },
            "text/plain": [
              "HBox(children=(FloatProgress(value=0.0, description='Downloading', max=434.0, style=ProgressStyle(description_…"
            ]
          },
          "metadata": {
            "tags": []
          }
        },
        {
          "output_type": "stream",
          "text": [
            "\n"
          ],
          "name": "stdout"
        },
        {
          "output_type": "display_data",
          "data": {
            "application/vnd.jupyter.widget-view+json": {
              "model_id": "9d185d1170a440bc8692343f3191b864",
              "version_minor": 0,
              "version_major": 2
            },
            "text/plain": [
              "HBox(children=(FloatProgress(value=0.0, description='Downloading', max=1344997306.0, style=ProgressStyle(descr…"
            ]
          },
          "metadata": {
            "tags": []
          }
        },
        {
          "output_type": "stream",
          "text": [
            "\n"
          ],
          "name": "stdout"
        },
        {
          "output_type": "display_data",
          "data": {
            "application/vnd.jupyter.widget-view+json": {
              "model_id": "da6f32f74110422286a3232dc22e7c8e",
              "version_minor": 0,
              "version_major": 2
            },
            "text/plain": [
              "HBox(children=(FloatProgress(value=0.0, description='Downloading', max=231508.0, style=ProgressStyle(descripti…"
            ]
          },
          "metadata": {
            "tags": []
          }
        },
        {
          "output_type": "stream",
          "text": [
            "\n"
          ],
          "name": "stdout"
        }
      ]
    },
    {
      "cell_type": "markdown",
      "metadata": {
        "id": "5kHr6_s1vhYR"
      },
      "source": [
        "##Biden Summaries"
      ]
    },
    {
      "cell_type": "code",
      "metadata": {
        "id": "BMT0gJJgGtBr",
        "colab": {
          "base_uri": "https://localhost:8080/"
        },
        "outputId": "5891841c-3a2c-455e-a672-65dfe1fc6f09"
      },
      "source": [
        "biden_summaries = \"\"\n",
        "num_biden_sentences = int(round(0.3 * biden_df.shape[0]))\n",
        "for i in range(10):\n",
        "  biden_df_pre = biden_df[biden_df['cluster'] == i].sentence\n",
        "  bs = ' '.join(biden_df_pre.to_list())\n",
        "\n",
        "  result = model(bs, num_sentences=num_biden_sentences) \n",
        "  print( \"Cluster: \", i)\n",
        "  print(result)\n",
        "  biden_summaries += result\n",
        "  biden_summaries += \"\\n\\n\"\n",
        "\n",
        "biden_file = open(summary_dir + \"/biden_bert.txt\", \"w\")\n",
        "biden_file.write(biden_summaries)\n",
        "biden_file.close()"
      ],
      "execution_count": 9,
      "outputs": [
        {
          "output_type": "stream",
          "text": [
            "Cluster:  0\n",
            "He's in the Supreme Court right now trying to get rid of the Affordable Care Act, which will strip 20 million people from having health insurance now, if it goes into court. But she's written, before she went in the bench, which is her right, that she thinks that the Affordable Care Act is not Constitutional. Women's rights are fundamentally changed. Once again, a woman could pay more money because she has a pre-existing condition of pregnancy. Those pre-existing conditions, insurance companies are going to love this. The platform of the Democratic Party is what I, in fact, approved of, what I approved of. What does it mean for them going forward if you strike down the Affordable Care Act? That's on the ballot as well and the court, in the court, and so that's also at stake right now. Donald would you just be quiet for a minute. I'm going to get very lucky tonight as well. He has Executive Orders that have no power. He hasn't lowered drug costs for anybody. Whatever position I take on that, that'll become the issue. That was really a productive segment, wasn't it? You should get out of your bunker and get out of the sand trap in your golf course and go in the Oval Office and bring together the Democrats and Republicans and fund what needs to be done now to save lives. No more than the question you just asked him. You pointed out he puts pressure and disagrees with his own scientists. You can trust the- Not a national emergency. Yeah, because what he did, even before COVID, manufacturing went in the hole. Manufacturing went in a hole- I was asked to bring back Chrysler and General Motors. He brought them back right here in the state of Ohio and Michigan. My son did nothing wrong at Barisma- His position has been totally thoroughly discredited- Well, by the media, by our allies. By the World Bank- By everyone, has discredited. And we have never walked away from trying to require equity for everyone, equality for the whole of America. A young woman got killed and they asked the president what he thought. ... second point I'd make to you, is that when Floyd was killed, when Mr. Floyd was killed, there was a peaceful protest in front of the White House. He came out of his bunker, had the military use tear gas on them so he could walk across to a church and hold up a Bible. Peaceful protest is, violence is never appropriate. Violent crime- That's why the suburbs are in trouble. Look, what I support are the police having the opportunity to deal with the problems they face and I'm totally opposed to defunding the police offices. That's when crime went down, it didn't go up. The billionaires have gotten much more wealthy by a tune of over $3- $400 billion more just since COVID. You in the home, you got less you're in more trouble than you were before. When we were in office there were 15% less violence in America than there is today. And I'm proud of him, I'm proud of my son. Number two, if in fact, during our administration in the recovery act, I was in charge able to bring down the cost of renewable energy to cheaper than are as cheap as coal and gas and oil. Nobody's going to build another coal fired plant in America. No one's going to build another oil fire plant in America. Gas and oil because the heat will not be going out. Instead of doing something about that, I would be gathering up and making sure we had the countries of the world coming up with $20 billion, and say, Here's $20 billion. And If you don't, then you're going to have significant economic consequences. You can now emit more methane without it being a problem. We spend billions of dollars now, billions of dollars, on floods, hurricanes, rising seas. But the rest of the world, we've got to get them to come along. That's why we have to get back into the Paris Accord. The final question is, I can't remember which of all his rantings  . And you don't have to solicit the ballot. If it doesn't get in until the seventh, eighth, ninth, it still should be counted. He's just afraid of counting the votes- When you get a ballot and you fill it out, you're supposed to have an affidavit. We count the ballots, as you pointed out.\n",
            "Cluster:  1\n",
            "We should wait and see what the outcome of this election is because that's the only way the American people get to express their view is by who they elect as President and who they elect as Vice President. And, by the way, the 200,000 people that have died on his watch, how many of those have survived? Well, there's seven million people that contracted COVID. It's only for those people who are so poor they qualify for Medicaid they can get that free in most States, except Governors who want to deny people who are poor Medicaid. The vast majority of the American people would still not be in that option. I'll tell you what, he is not for any help for people needing healthcare. Because he, in fact, already has costs 10 million people their healthcare that they had from their employers because of his recession. The issue is the American people should speak. 40,000 people a day are contracting COVID. In addition to that, about between 750 and 1000 people a day are dying. He said he didn't tell us or give people a warning of it because he didn't want to panic the American people. We should be providing the money the House has passed in order to be able to go out and get people the help they need to keep their businesses open. A lot of people died and a lot more are going to die unless he gets a lot smarter, a lot quicker- He's not worried about the people out there  . Billionaires have made another $300 billion because of his profligate tax proposal, and he only focused on the market. Secondly, the people who have lost their jobs are those people who have been on the front lines. Those people who have been saving our lives, those people who have been out there dying. He ought to get on the job and take care of the needs of the American people so we can open safely. Look, the tax code that put him in a position that he pays less tax than on the money a school teacher makes is because of him... He says he's smart because he can take advantage of the tax code. And he does take advantage of the tax code. That's why I'm going to eliminate the Trump tax cuts. And I'm going to eliminate those tax cuts. And number two, it would create an additional $1 trillion in economic growth, because it would be about buying American. You have 91 companies federal, I mean, the fortune 500, who don't pay a single penny in tax making billions of dollars. Because you in fact passed that, that was your tax proposal. Not lower tax for the American people. ... we inherited the worst recession, short of a depression in American history. Even the people who testified under oath- Even the people under- Well, I'll give you the list of the people who- It's about your family, the American people. You, the American people, it's about you. It is true, the reason I got in the race is when those people... Close your eyes, remember what those people look like coming out of the fields, carrying torches, their veins bulging, just spewing anti-Semitic bile and accompanied by the Ku Klux Klan. The general who was with him said all he ever wants to do is divide people, not unite people at all. And what he did has been disastrous for the African-American community. People have to be made aware of what other people feel like, what insults them, what is demeaning to them. Many people don't want to hurt other people's feelings, but it makes a big difference. It's a little bit like how this guy and his friends look down on so many people. They look down their nose on people like Irish Catholics, like me, who grow up in Scranton. They look down on people who don't have money. They look down on people who are of a different faith. They looked down on people who are a different color. We can take this on and we can defeat racism in American. Law and order with justice, where people get treated fairly. There's many people today driving their kids to soccer practice and/or black and white and Hispanic in the same car as there have been any time in the past, what really is a threat to the suburbs and their safety is his failure to deal with COVID. We have to have community policing like we had before where the officers get to know the people in the communities. He was a Patriot and the people left behind there were heroes. My son like a lot of people at home had a drug problem. Not only not costing people jobs, creating jobs, creating millions of good-paying jobs. The fact is, it's going to create millions of good paying jobs, and these tax incentives for people to weatherize, which he wants to get rid of. And this is all about trying to dissuade people from voting because he's trying to scare people into thinking that it's not going to be legitimate.\n",
            "Cluster:  2\n",
            "The American people have a right to have a say in who the Supreme Court nominee is and that say occurs when they vote for United States Senators and when they vote for the President of United States. Vote and let your Senators know strongly how you feel. They should go to iwillvote.com, decide how they're going to vote, when they're going to vote, and what means by which they're going to vote. Number two, we're going to make sure that those people who want to vote in person are able to vote because there are enough poll watchers are there to make sure they can socially distance. If you're able to vote early in your state, vote early. If you're able to vote in person, vote in person. When the votes are counted and they're all counted, that will be accepted. Well, let me tell you something, it doesn't matter, because if we get the votes, it's going to be all over. Who they voted for, testify, say who they voted for, say it's you. They've been voting by ballots since the end of the Civil War, in effect. Because once the winner is declared after all the ballots are counted, all the votes are counted, that'll be the end of it.\n",
            "Cluster:  3\n",
            "Well, first of all, thank you for doing this and looking forward to this, Mr. President. They're not going to get that chance now because we're in the middle of an election already. He's been running on that, he ran on that and he's been governing on that. And the justice, I'm not opposed to the justice, she seems like a very fine person. They're able to charge women more for the same exact procedure a man gets. And so it's just not appropriate to do this before this election. If he wins the election and the Senate is Republican, then he goes forward. What I proposed is that we expand Obamacare and we increase it. You're not going to be able to shut him up. The point is that the President also is opposed to Roe V. Wade. And so the election is all- Good healthcare. Anyone who qualifies for Medicaid would automatically be enrolled in the public option. The wrong guy, the wrong night, at the wrong time. He went in and we were insisting that the people we had in the ground in China should be able to go to Wuhan and determine for themselves how dangerous this was. He told us what a great job Xi was doing. I laid out back in March, exactly what we should be doing. And I laid out again in July, what we should be doing. We should be providing all the protective gear possible. And there was no one ... We didn't shut down the economy. The reason it's shut down is because, look, you folks at home. How many of you got up this morning and had an empty chair at the kitchen table because someone died of COVID? This is the same man who told you- This is the same man. Well, that's what he's going to try to do, but there's thousands of scientists out there, like here at this great hospital that don't work for him. Do you believe for a moment what he's telling you in light of all the lies he's told you about the whole issue relating to COVID? He panicked or he just looked at the stock market. You've got to provide these businesses the ability to have the money to be able to reopen with the PPE, as well as with the sanitation they need. You have to provide them classic- Will he just shush for a minute? The Republicans won't meet in the Senate. Look, the way to open businesses is give them the wherewithal to be able open. We provided money, the- Well, masks make a big difference. His own head of the CDC said if we just wore masks between now, if everybody wore a mask and social distanced between now and January, we'd probably save up to 100,000 lives. Stand back, put on your mask, put on a mask. The difference is millionaires and billionaires like him in the middle of the COVID crisis have done very well. But you folks at home, you folks living in Scranton and Claymont and all the small towns and working class towns in America, how well are you doing? Fewer jobs than when he became president. And the idea that he is insisting that we go forward and open when you have almost half the states in America with a significant increase in COVID deaths and COVID cases in the United States of America, and he wants to open it up more. Why does he take care of the... You can't fix the economy until you fix the COVID crisis. And he has no intention of doing anything about making it better for you all at home in terms of your health and your safety. Because it costs a lot of money to open them safely. They were going to give, his administration going to give the teachers and school students masks, and then they decided no, couldn't do that because it's not a national emergency. They've done nothing to help small businesses. Because you weren't president- You're the worst president America has ever had. Well, just take a look at what is the analysis done by Wall Street firms, points out that my economic plan would create 7 million more jobs than his in four years, number one. The federal government spends $600 billion a year on everything from ships, to steel, to buildings and the like. Yeah, you got it done- The economy- Look- We handed him a booming economy, he blew it. Number two- This guy- I'm the guy that brought back the automobile industry. And so you take a look at what he's actually done. We have a higher deficit with China now than we did before. We have the highest trade deficit- ... with Mexico. Well, here's the- Well, it's hard to get any word in with this clown. Mr. President- His family's already- And that's such a- This is not about my family or his family. But we've never accomplished it, but we've never walked away from it like he has done. This is a president who has used everything as a dog whistle, to try to generate racists hatred, racist division. And if he doesn't do something quickly, by the end of the year, one in 500 will have been killed. This man is as a savior of African-Americans? But look, the vast majority of police officers are good, decent, honorable men and women. They risk their lives every day to take care of us, but there are some bad apples. And when they occur, when they find them, they have to be sorted out. And what I'm going to do as President of the United States is call together an entire group of people at the White House, everything from the civil rights groups, to the police officers, to the police chiefs, and we're going to work this out. These cops aren't happy to see what happened to George Floyd. These cops aren't happy to see what happened to Breonna Taylor. It makes a gigantic difference in the way a child is able to grow up and have a sense of self-esteem. All these dog whistles and racism don't work anymore. His failure to deal with the environment, they're being flooded, they're being burned out because his refusal to do anything. I've made it clear in my public statements that the violence should be prosecuted. It should be prosecuted and anyone who committed it should be prosecuted. Here's the point, the point is that that's why he keeps trying to rile everything up. He just pours gasoline in the fire constantly and every single solitary time. ... Every body in your administration tells you the true, it's a bad idea. Under this president, we become weaker, sicker, poor, more divided and more violent. When I was vice president, we inherited a recession. We left him a booming economy and he caused the recession. With regard to being weaker, the fact is that I've gone head to head with Putin and made it clear to him we're not going to take any of his stuff. He still refuses to even say anything to Putin about the bounty on the heads of American soldiers. And with regard to more divided the nation, it can't stay divided. He wasn't given tens of millions of dollars. That report was written for political reason. So would I. Why have you relaxed fuel economy standards that are going to create more pollution from cars and trucks? They're going to move to renewable energy. Number one, number two, we're going to make sure that we are able to take the federal fleet and turn it into a fleet that's run on their electric vehicles. Making sure that we can do that, we're going to put 500,000 charging stations in all of the highways that we're going to be building in the future. We can get to net zero, in terms of energy production, by 2035. I will join the Paris Accord because with us out of it, look what's happening. The rainforests of Brazil are being torn down, are being ripped down. More carbon is absorbed in that rainforest than every bit of carbon that's emitted in the United States. That is not- Simply... Look- That is simply not the case- What it's going to do, it's going to create thousands and millions of jobs. It's going to make the economy much safer. Yeah, he did say that- ... we're going to be in a position where we can create hard, hard, good jobs by making sure the environment is clean, and we all are in better shape. Look what's happened just in the Midwest with these storms that come through and wipe out entire sections and counties in Iowa. I support  - He sits behind the Resolute Desk and sends his ballot to Florida, number one. The polls are open on time, and the polls stay open until the votes are counted. You will determine the outcome of this election. He cannot stop you from being able to determine the outcome of this election. And in terms of whether or not... If I win, that will be accepted. Just make sure you understand, you have it in your control to determine what this country is going to look like the next four years. Is it going to change, or are you going to get four more years of these lies? There is no evidence of that- There is no evidence of that- Five states have had mail-in ballots for the last decade or more. You should be able to, if in fact you can verify that's you before the ballot is thrown out, that's sufficient to be able to count the ballot because someone made a mistake and not dotting the correct I. Mail service delivers   185 million pieces of mail a day  - Yes. Some of these ballots in some states can't even be opened until election day. And if there's thousands of ballots, it's going to take time to do it. Why is it, for them, somehow not fraudulent. No one has established at all that there is fraud related to mail-in ballots, that somehow it's a fraudulent process. If it's not me, I'll support the outcome. And I'll be a president, not just for the Democrats. I'll be a president for Democrats and Republicans.\n",
            "Cluster:  4\n",
            "That's not true he was not dishonorably discharged.\n",
            "Cluster:  5\n",
            "And that ended when we, in fact, passed the Affordable Care Act, and there's a hundred million people who have pre-existing conditions and they'll be taken away as well. The fact of the matter is I beat Bernie Sanders. The fact is that everything he's saying so far is simply a lie. Make sure you, in fact, let people know, your Senators. As you said, over seven million infected in the United States. We, in fact, have 4% of the world's population, 20% of the deaths. When he was presented with that number, he said, It is what it is. He said we owe him debt of gratitude for being so transparent with us. How many of you are in a situation where you lost your mom or dad and you couldn't even speak to them, you had a nurse holding a phone up so you could in fact say goodbye? His own CDC Director says we could lose as many as another 200,000 people between now and the end of the year. And he said, if we just wear a mask, we can save half those numbers. And by the way, in terms of the whole notion of a vaccine, we're for a vaccine, but I don't trust him at all. And by the way, maybe you could inject some bleach in your arm, and that would take care of it. They're the people... And by the way- By the way- He's on record as saying it. By the way, did you see one of the last big rallies he had? A reporter came up to him to ask him a question, he said, No, no, no. I'm way far away from those other people. That's what he said, I'm going to be okay. He's been totally irresponsible the way in which he has handled the social distancing and people wearing masks, basically encouraged them not to. The fact is that he has in fact, worked on this in a way that he's going to be the first president of the United States to leave office, having fewer jobs in his administration than when he became president. People who've been putting themselves in the way to make sure that we could all try to make it. And make sure that we invest in the people who in fact need the help. And under my proposal, we're going to make sure that every penny of that has to be made by a company- By the way, I'm going to eliminate a significant number of the taxes. And in fact, they're gone- And by the way- It is not a fact. And matter of fact   Matter of fact- ... testified under oath in his administration said I did my job and I did it very well. I'm sure that you've already fired most of them, because they did a good job. He said, There were very fine people on both sides. No president's ever said anything like that. The Bishop of that very church said that it was a disgrace. This is a man who, in fact, you talk about helping African-Americans, one in 1000 African Americans has been killed because of the coronavirus. There's systemic injustice in this country, in education and work and in law enforcement and the way in which it's enforced. Most don't like it, but we have to have a system where people are held accountable when... And by the way, violence in response is never appropriate, never appropriate. The fact is that there is racial insensitivity. The only way we're going to bring this country together is bring everybody together. And the fact of the matter is, violent crime went down 17%, 15% in our administration. As a matter of fact police, local police, the only one defunding in his budget calls for a $400 million cut in local law enforcement assistance. They can in fact take care of it if he just stay out of the way. And by the way his own former spokesperson said, Riots and chaos and violence help he cause. He's own FBI Director said unlike white supremacist, Antifa is an idea not an organization- That's what his FBI Director said. By the way, my son... We can't be this way. And speaking of my son, the way you talk about the military, the way you talk about them being losers and being and just being suckers. Mitt Romney on that committee said it wasn't worth taxpayer's money. We're going to build a economy that in fact is going to provide for the ability of us to take 4 million buildings and make sure that they in fact are weatherized in a way that in fact will they'll emit significantly less gas and oil because the heat will not be going out. Not 15 bucks an hour, but prevailing wage, by having a new infrastructure that in fact, is green. This is a guy who says that you don't have to have mileage standards for automobiles that exist now. This is the guy who says that, the fact that- He said, maybe we should drop a nuclear weapon on them, and they may- We're not going to build plants that, in fact, are great polluting plants- His own Homeland Security director, and as well as the FBI director, says that there is no evidence at all that mail-in ballots are a source of being manipulated and cheating. The fact is that there are going to be millions of people because of COVID that are going to be voting by mail-in ballots like he does, by the way. Vote whatever way is the best way for you, because you will... But by the way, if in fact he says, he's not sure what he's going to accept. What they're saying is that it has to be a postmark by election day. And by the way, our military... The fact is, I will accept it, and he will too.\n",
            "Cluster:  6\n",
            "The deal is that it's going to wipe out pre-existing conditions. Because here's the deal, here's the deal. And here's the deal- Look how much we're paying now to deal with the hurricanes, deal with... By the way, he has an answer for hurricanes. And here's the deal- The Green New Deal   is not my plan. The Green New Deal will pay for itself as we move forward. The Biden plan, which is different than what he calls the radical Green New Deal. I am concerned that any court would settle this, because here's the deal.\n",
            "Cluster:  7\n",
            "All he knows how to do- Everybody knows he's a liar. And the fact is this man doesn't know what he's talking about. He knew all the way back in February how serious this crisis was. He's on tape as acknowledging he knew it. He still hasn't even acknowledged that he knew this was happening, knew how dangerous it was going to be back in February, and he didn't even tell you. He wouldn't know a suburb unless you took a wrong turn. He doesn't know how to do that- If you didn't know, you have someone say that, this is me.\n",
            "Cluster:  8\n",
            "Tens of thousands of people already voted and so the thing that should happen is we should wait. Now, what's at stake here is the President's made it clear, he wants to get rid of the Affordable Care Act. The other thing that's on the court, and if it's struck down, what happens? And one of the big debates we had with 23 of my colleagues trying to win the nomination that I won, were saying that Biden wanted to allow people to have private insurance still. God, I want to make sure- Number two, there are 20 million people getting healthcare through Obamacare now that he wants to take it away. He won't ever look you in the eye and say that's what he wants to do. He has none, like almost everything else he talks about. Every serious company is talking about maybe having a vaccine done by the end of the year, but the distribution of that vaccine will not occur until sometime beginning of the middle of next year to get it out, if we get the vaccine. Well, let's have this debate- Why is he want to open it up? Because you weren't president and screwing things up. We were able to have an economic recovery that created the jobs you're talking about. He doesn't want to let me answer, because he knows I have the truth. We want to talk about families and ethics. I mean, his family, we could talk about all night. It doesn't want to talk about what you need. Look, the fact is that you have to look at what he talks about. So we changed the way in which we have more transparency, in when these things happen. They need when they show up for a 9-11 call to have someone with them as a psychologist or psychiatrist to keep them from having to use force and be able to talk people down. He doesn't want to calm things down instead of going in and talking to people and saying, Let's get everybody together. I'm talking about my son, Beau Biden, you're talking about Hunter? There's so many things that we can do... There's so many things that we can do now to create thousands and thousands of jobs. And the first thing I will do, I will rejoin the Paris Accord. And talk about someone who has no relationship with foreign policy. He wants to make sure that methane's not a problem.\n",
            "Cluster:  9\n",
            "He's been promising a healthcare plan since he got elected. If I were running it, I'd know what the plan is. Nancy Pelosi and Schumer, they have a plan. I'm talking about the Biden plan  - That is not my plan  . I support   the Biden plan that I put forward.\n"
          ],
          "name": "stdout"
        }
      ]
    },
    {
      "cell_type": "markdown",
      "metadata": {
        "id": "BTGjrd9IvyHP"
      },
      "source": [
        "##Trump Summaries"
      ]
    },
    {
      "cell_type": "code",
      "metadata": {
        "id": "W2r1AkbwEsox",
        "colab": {
          "base_uri": "https://localhost:8080/"
        },
        "outputId": "089ab95e-52dd-4dc3-d138-92611519d349"
      },
      "source": [
        "trump_summaries = \"\"\n",
        "num_trump_sentences = int(round(0.3 * trump_df.shape[0]))\n",
        "for i in range(10):\n",
        "  trump_df_pre = trump_df[trump_df['cluster'] == i].sentence\n",
        "  ts = ' '.join(trump_df_pre.to_list())\n",
        "\n",
        "  result = model(ts, num_sentences=num_trump_sentences)\n",
        "  print( \"Cluster: \", i)\n",
        "  print(result)\n",
        "  trump_summaries += result\n",
        "  trump_summaries += \"\\n\\n\"\n",
        "\n",
        "trump_file = open(summary_dir + \"/trump_bert.txt\", \"w\")\n",
        "trump_file.write(trump_summaries)\n",
        "trump_file.close()"
      ],
      "execution_count": 10,
      "outputs": [
        {
          "output_type": "stream",
          "text": [
            "Cluster:  0\n",
            "Chris, that was the worst part of Obamacare. They shouldn't even call it Obamacare, then I had a choice to make, do I let my people run it really well or badly? But I'll tell you, Joe, you could never have done the job that we did. Tell that to Nancy Pelosi, and Schumer   Chuck. Let me shut you down for a second, Joe, just for one second. We don't need somebody to come in and say, Let's shut it down. And let me just tell you, there was a story in one of the papers that paid- But let me tell you- Let me- But let me just tell you- Chris, let me just say something, that it was the tax laws. Like every other private person, unless they're stupid, they go through the laws, and that's what it is. But they had the slowest economic recovery since 1929, and let me tell you about the stock market. Hey, let me just tell you, Joe- Chris, can I be honest? Law enforcement, almost every law enforcement group in the United States. You can't even say the word law enforcement. Why don't you say the words law enforcement? Minneapolis, we got it back, Joe, because we believe in law and order, but you don't. And they've got you wrapped around their finger, Joe, to a point where you don't want to say anything about law and order. And I'll tell you what, the people of this country want and demand law and order and you're afraid to even say it. ... don't want to talk, like you, about law and order. The numbers are going up a 100%, 150%, 200% crime, it is crazy what's going on and he doesn't want to say law and order because he can't because he'll lose his radical left supporters and once he does that, it's over with. Name one law enforcement group that came out in support of you. So don't tell me about a free transition. And I'll tell you why- I'll tell you what it means-\n",
            "Cluster:  1\n",
            "Okay, Justice Ginsburg said very powerfully, very strongly, at some point 10 years ago or so, she said a President and the Senate is elected for a period of time, but a President is elected for four years. You could have done it during your 47 year period in government, but you didn't do it. I paid $38 million one year, I paid $27 million one year. But why didn't you do it over the last 25 years? Why didn't you do it over the last 25 years? In 47 months, I've done more than you've done in 47 years, Joe. Ohio had the best year it's ever had last year. Michigan had the best year they've ever had. Because you look back at your testimony over the years, you've called them a lot worse than that. Because there is never been an administration or president who has done more than I've done in a period of three and a half years. People were calling me for the first time in years, they were calling and they were saying it's time maybe and then what happened? We have the old slugs out there that are 10, 12 years old. That's more money than our country could make in 100 years  - So why didn't he do it for 47 years?\n",
            "Cluster:  2\n",
            "We have the Senate, we have the White House, and we have a phenomenal nominee respected by all. She's going to be as good as anybody that has served on that court. We have a professor at Notre Dame, highly respected by all, said she's the single greatest student he's ever had. He's been a professor for a long time at a great school. And probably that would happen in reverse, also. So we have the Senate, we have a President- During that period of time, during that period of time, we have an opening. Well, you're certainly going to socialist. You're going to socialist- Your party doesn't say it. You would have been much later, Joe, much later. I got rid of the individual mandate, which was a big chunk of Obamacare. The individual mandate was the most unpopular aspect of Obamacare. Well, first of all, I guess I'm debating you, not him, but that's okay. I'm going with Favored Nations, which no President has the courage to do because you're going against big pharma. Drug prices will be coming down 80 or 90%. Take a look at all of the drugs that what we're doing. Prescription drug prices, we're going to allow our Governors now to go to other countries to buy drugs because when they paid just a tiny fraction of what we do. Joe, you agreed with Bernie Sanders, who's far left, on the manifesto, we call it. If Pocahontas would have left two days early you would have lost every primary. You graduated last in your class not first in your class. Listen, you agreed with Bernie Sanders and the manifesto. You agreed with Bernie Sanders on a plan that you absolutely agreed to and under that plan  , they call it socialized medicine. Obamacare, as you might know but probably don't, Obamacare is no good. We made it better and I had a choice to make very early on. We guaranteed pre-existing conditions, but took away the individual mandate. And that destroyed ... If I run it badly, they'll probably blame him, but they'll blame me. Premiums are too high, that it doesn't work. They stopped it from going in, but it was China's fault. They don't exactly give you a straight count, just so you understand. You wouldn't have closed it for another two months. The only thing I haven't done a good job, and that's because of the fake news, no matter what you say to them, they give you a bad press on it. They give you good press, they give me bad press because that's the way it is, unfortunately. Well, you didn't do very well in Swine Flu. You don't trust Johnson & Johnson, Pfizer? I've spoken to Pfizer, I've spoken to all of the people that you have to speak to, Moderna, Johnson & Johnson, and others. Well, we're going to deliver it right away. We have our military that delivers soldiers and they can do 200,000 a day. They're going to be delivering- It's all set up. You'll have the vaccine sooner than that. We spoke to the scientists that are in charge- ... they will have the vaccine very soon. You graduated either the lowest or almost the lowest in your class. If you would have had the charge of what I was put through, I had to close the greatest economy of the history of our country. But those states- You have to understand, if you look... I mean, I have a mask right here. Tonight, as an example, everybody's had a test and you've had social distancing and all of the things that you have to, but I wear masks- ... when needed. He could be speaking 200 feet away from him and he shows up with the biggest mask I've ever seen. I will say this- They've also said- Dr. Fauci. I mean- Well, so far we have had no problem whatsoever. That's a big difference according to the experts. We do them outside, we have tremendous crowds, as you see, and literally on 24 hours notice. If you could get the crowds, you would have done the same thing. So we built the greatest economy in history. We closed it down because of the China plague. When the plague came in, we closed it down, which was very hard psychologically to do. But what happened is we closed it down and now we're reopening and we're doing record business. That's a record the likes of which nobody's ever seen before. A lot of people, between drugs and alcohol and depression, when you start shutting it down, you take a look at what's happening at some of your Democrat-run states where they have these tough shutdowns. One of them came out last week, you saw that, Oh, we're going to open up on November 9th. They can wash their hands, they can wear masks. When you look at North Carolina, when you look, and these governors are under siege, Pennsylvania, Michigan, and a couple of others, you got to open these states up. You're talking about almost it's like being in prison. And you look at what's going on with divorce, look at what's going on with alcoholism and drugs. This guy will close down the whole country and destroy our country. Our country is coming back incredibly well, setting records as it does it. It's so sad what's happening in New York. It's almost like a ghost town, and I'm not sure it can ever recover what they've done to New York. By the way, I brought back Big Ten football. It was me and I'm very happy to do it- You'll see it as soon as it's finished, you'll see it. There's 118 page or so report that says everything I have, every bank I have, I'm totally under leveraged because the assets are extremely good, and I built a great company. He passed a tax bill that gave us all these privileges for depreciation and for tax credits. We build the building and we get tax credits, like the hotel on Pennsylvania Avenue. Which by the way, was given to me by the Obama administration, if you can believe that. Now the man got fired right after that happened, but that's- That's okay. You were a Senator and  - Including fixing the broken military that you gave me, including taking care of your debts. Why didn't you do it before, when you were vice president with Obama? Our economy boomed like it's never boomed before. They had the slowest economic recovery since 1929. Also, they took over something that was down here. When the stock market goes up, that means jobs. Half of the companies that have poured in here will leave. And plenty of companies that are already here, they'll leave for other places. They will leave and you will have a depression, the likes of which you've never seen. Many car companies came in from Germany, from Japan, went to Michigan, went to Ohio and they didn't come in with you. What did he do with- ... to deserve $183,000? Did Burisma pay him 183,000 a month, with no experience in energy? By the media, because they refuse to talk about it- ... because they're embarrassed. My family- My family lost a fortune by coming down and helping us with governance. Every single one of them lost a fortune- It's a very important question- He stood up- ... and the threatened Ukraine- ... with a billion dollars- Well, that's all right, but he does plenty. So- You did a crime bill, 1994, where you call them super predators. African-Americans are super predators and they've never forgotten it. So you did that and they call you a super predator and I'm letting people out of jail now, that you have treated the African-American population community, you have treated the black community about as bad as anybody in this country. You did the 1990... And that's why, if you look at the polls, I'm doing better than any Republican has done in a long time, because they saw what you did. You call them super predators, and you've called them worse than that. As far as the church is concerned and as far as the generals are concerned, we just got the support of 250 military leaders and generals, total support. Because if you say those words, you're going to lose all of your radical left supporters. If called us in Portland, we would put out that fire in a half an hour. But they won't do it, because they're run by radical left Democrats. If you look at Chicago, if you look at any place you want to look, Seattle, they heard we were coming in the following day and they put up their hands and we got back Seattle. The top 10 cities and just about the top 40 cities are run by Democrats, and in many cases radical left. When they run through the middle of the town- Fine. That it a radical revolution that was taking place in our military, in our schools, all over the place. If you were a certain person, you had no status in life. We have to go back to the core values of this country. And I'm not going to allow that to happen. During the Obama-Biden administration, there was tremendous division. You look at Ferguson, you look at, or you go to very... Many places, look at Oakland. Look what happened... Frankly, it was more violent than what I'm even seeing now. But the reason- ... is that the Democrats that run these cities- And you still haven't mentioned. The places we had trouble were democratic run cities- I think as a party issue, you can bring in a couple of examples but if you look at Chicago, what's going on in Chicago where a 53 people were shot and eight died shot, if you look at New York where it's going up, like nobody's ever seen anything. But if he ever got to run this country and they ran it the way he would want to run it, we would have by the way our suburbs would be gone. And you would see problems like you've never seen before. That's not what they are talking about this. Oh, really, who do you have name one group that supports you name one group that came out and supported you. I sent in the US Marshalls to get the killer of a young man in the middle of the street and they shot him for three days Portland didn't do anything. I sent in the US Marshals they took care of business. Wait a second, you have made a statement. I'll send in the National Guard, it would be over. I would say almost everything I see is from the left wing not from the right wing. But I'll tell you what somebody's got to do something about Antifa and the left because this is not a right wing problem this is a left wing. You know what, Antifa is a dangerous radical group. And you ought to be careful of them, they'll over throw you. And that's despite the impeachment hoax and you so what happened today with Hillary Clinton, where it was a whole big con job. But despite going through all of these things where I had a fight, both flanks and behind me and above there has never been an administration that's done what I've done. The greatest, before COVID came in the greatest economy in history, lowest unemployment numbers, everything was good. And by the way, there was unity going to happen. A rebuilding of the military, including Space Force and all of the other things. And we now got a 91% approval rating at the VA, our vets. And I'll tell you something, some people say maybe the most important by the end of the first term I'll have approximately 300 Federal judges and Court of Appeals judges, 300 and hopefully three great Supreme Court judges, justices that is a record the likes of which very few people and one of the reasons I'll have so many judges because President Obama and him left me 128 judges to fill. When you leave office, you don't leave any judges. They left 128 openings and if I were a member of his party, because they have a little different philosophy, I'd say, if you left us 128 openings you can't be a good president. Are you talking Hunter, are you talking about Hunter. He was thrown out dishonorably discharged. And he didn't have a job until you became vice president. Once you became vice president he made a fortune in Ukraine, in China, in Moscow and various other places. He made a fortune and he didn't have a job. We have now the lowest carbon... If you look at our numbers right now, we are doing phenomenally. Our businesses aren't put out of commission. If you look at the Paris Accord, it was a disaster from our standpoint. As far as the fires are concerned, you need forest management. In addition to everything else, the forest floors are loaded up with trees, dead trees that are years old and they're like tinder and leaves and everything else. You drop a cigarette in there the whole forest burns down. I believe that we have to do everything we can to have immaculate air immaculate water and do whatever else we can that's good. California's burning, California's burning. If that was cleaned, if that were, if you had forest management, good forest management, you wouldn't be getting those calls. In Europe, they live they're forest cities. I was with the head of a major country, it's a forest city. I'm getting along very well with the governor. But I said, At some point you can't every year have hundreds of thousands of acres of land just burned to the ground. That's burning down because of a lack of management. Because it was driving energy prices through the sky. Well, not really because what's happening is the car is much less expensive and it's a much safer car and you talk it about a tiny difference. And then what would happen because of the cost of the car you would have at least double and triple the number of cars purchased. Now, by the way, we're going to see how that turns out. The car has gotten so expensive because they have computers all over the place for an extra little bit of gasoline. I've given big incentives for electric cars but what they've done in California is just crazy. Not true- He's talking about the Green New Deal. It's the dumbest- ... most ridiculous   where two car systems are out- That's not true either, right? This is a 100 trillion- You were vice president- So why didn't you get the world... China sends up real dirt into the air. And by the way, he made a couple of statements. The Green New Deal is a hundred trillion dollars. He and his friends made it up, and then they went with it. You're on tape- Oh, well, that's a big statement. So when I listen to Joe talking about a transition, there has been no transition from when I won. And if you look at crooked Hillary Clinton, if you look at all of the different people, there was no transition, because they came after me trying to do a coup. They came after me spying on my campaign. They started from the day I won, and even before I won. From the day I came down the escalator with our first lady, they were a disaster. They were a disgrace to our country, and we've caught them. And by the way, you gave the idea for the Logan Act against General Flynn. You better take a look at that, because we caught you in a sense, and President Obama was sitting in the office. As far as the ballots are concerned, it's a disaster. A solicited ballot, okay, solicited, is okay. If you have an unsolicited... There's fraud. They found some, just happened to have the name Trump just the other day in a wastepaper basket. This is going to be a fraud like you've never seen. Take a look at what happened in Manhattan. Take a look at what happened in New Jersey. Take a look at what happened in Virginia and other places. They're not losing 2%, 1%, which by the way is too much. And can you imagine where they say, You have to have your ballot in by November 10th. We have major states   with that- ... all run by Democrats- All run by Democrats. I read today where at least 1% of the ballots for 2016 were invalidated. You do a solicited ballot, and that's okay- You go and vote. You go and vote- You either do, Chris, a solicited ballot, where you're sending it in, they're sending it back and you're sending. Take a look at West Virginia, mailman selling the ballots. This is a horrible thing for our country. This is not going to end well- I love counting the votes  - Chris, he's so wrong when he makes a statement like that- Excuse me  - Could be months- I'm urging my supporters to go in to the polls and watch very carefully, because that's what has to happen. They're called poll watchers, a very safe, very nice thing. Because bad things happen in Philadelphia. But if I see tens of thousands of ballots being manipulated, I can't go along with that. ... from a common sense- They're not equipped... Number two, they cheat. Hey, they found ballots in a wastepaper basket three days ago, and they all had the name military ballots.\n",
            "Cluster:  3\n",
            "I paid millions of dollars in taxes, millions of dollars of income tax. And no wonder your son goes in and he takes out billions of dollars. He takes out billions of dollars to manage. And also, while we're at it, why is it just out of curiosity, the mayor of Moscow's wife gave you a son three and a half million dollars? Oh really, he didn't get three and a half million? Well wait, he didn't get three and a half million dollars, Joe? He got three and a half million- ... dollars. He got three and a half million dollars from Moscow. Why did he deserve three and a half million from Moscow? You son got three and a half million dollars. But why was he given tens of millions of dollars? I know but when somebody gets three and a half million dollars from the Mayor of Moscow. They're sending millions of ballots all over the country.\n",
            "Cluster:  4\n",
            "That's not what you've said and it's not what your party is saying. That's not what your party says, by the way. They said the problem is, no matter how well you run Obamacare, it's a disaster. But if you look at what we've done, I closed it and you said, He's xenophobic. By my doing it early, in fact, Dr. Fauci said, President Trump saved thousands of lives. Many of your Democrat Governors said, President Trump did a phenomenal job. The Governors said I did a phenomenal job. In fact, people that would not be necessarily on my side said that, President Trump did a phenomenal job. Your own Chief of Staff said you were a disaster. He said it could be there, but it could also be much sooner. Because he said it's a possibility that we'll have the answer before November 1st. That was said sarcastically, and you know that. So you said you went to Delaware State, but you forgot the name of your college. He said very strongly, Masks are not good. They said it would take... No, you're on number two. They said it would take- Excuse me, Portland, the sheriff just came out today and he said, I support President Trump. And why aren't you saying those words, Joe? He said, Sir, we have trees that are far more, they ignite much easier than California. And it's not 2 billion   or 20 billion, as you said  . I never said that at all- He said I said something about the military.\n",
            "Cluster:  5\n",
            "Even if we did it after the election itself. They had Merrick Garland, but the problem is they didn't have the election so they were stopped. So we won the election and we have the right to do it, Chris. Your party wants to go socialist medicine and socialist healthcare. You didn't want me to ban China, which was heavily infected. Because they want to give good healthcare. I'm getting it for so cheap it's like water, you want to know the truth. No, I want to give them better healthcare at a much lower price, because Obamacare is no good. Chris, we want to get rid of that and give something that's cheaper and better. Well, he wants to shut down this country and I want to keep it open, and we did a great thing by shutting it down- He wants to shut down the country. If you look at Pennsylvania, if you look at certain states that have been shut down, they have Democrat governors, all, one of the reasons they shut down is because they want to keep it shut down until after the election on November 3rd. Those states are not doing well that are shut down right now. And he wants to close down the... He will shut it down again. And I'm telling you it's because they don't want to open it. They can do whatever they want, but they got to open these states up. They'll be careful, but they want their schools open. You know, if you wanted to, go to the Board of Elections. If you got in, if you ever became president with your ideas, you want to terminate my taxes. But I don't want to accept the National Guard. Give me a name, give me a name, go ahead who do you want me to condemn. You can't be a good vice president but I want to thank you because it gives us almost, it'll probably be above that number. where they want to take out the cows too. On November 3rd, you're watching, and you see who won the election. An election could be won or lost with that. That's seven days after the election, in theory, should have been announced. I hope we don't need them, in terms of the election itself. If it's a fair election- It means you have a fraudulent election. I want to see an honest ballot cut- I want to see an honest ballot count.\n",
            "Cluster:  6\n",
            "It's become very political because the left... Or I don't know if I call them left, I don't know what I call them. We had to, because we didn't know anything about the disease. And you know it, and so does everybody else. And he would know it- You just don't know. We might not know for months because these ballots are going to be all over. You know it can't, and already, there's been fraud  - As you know, today there was a big problem.\n",
            "Cluster:  7\n",
            "In fact, some of her biggest endorsers are very liberal people from Notre Dame and other places. And we won the election and therefore we have the right to choose her, and very few people knowingly would say otherwise. There aren't a hundred million people with pre-existing conditions. As far as a say is concerned, the people already had their say. Joe, the hundred million people is totally wrong. The bigger problem that you have is that you're going to extinguish 180 million people with their private health care, that they're very happy this. Joe, you've had 308,000 military people dying because you couldn't provide them proper healthcare in the military. And if you were here, it wouldn't be 200, it would be two million people because you were very late on the draw. Insulin, it was destroying families, destroying people, the cost. But more importantly, I want to help people. If we would've listened to you, the country would have been left wide open, millions of people would have died, not 200,000. And, by the way, when you talk about numbers, you don't know how many people died in China. You don't know how many people died in Russia. You don't know how many people died in India. Fewer people are dying when they get sick. We would have lost far more people, far more people. It's a very political thing because people like this would rather make it political than save lives. Now we've found that elderly people with heart problems and diabetes and different problems are very, very vulnerable. Young children aren't, even younger people aren't. Because people want to hear what I have to say. I'm doing my job as a president, and I'll have 25, 35,000 people show up at airports. And Joe does the circles and has three people someplace. We've had no negative effect, and we've had 35, 40,000 people at these rallies. Again, two million people would be dead now instead of... Still, 204,000 people is too much. We had 10.4 million people in a four month period that we've put back into the workforce. Before I came here, I was a private developer, I was a private business people. and burn down your stores and kill people all over the place-  . And if you look at the people, we were paying people hundreds of thousands of dollars to teach very bad ideas and frankly, very sick ideas. And really, they were teaching people to hate our country And I'm not going to do that. They were teaching people that our country is a horrible place. And they were teaching people to hate our country. A fixing of the VA which was a mess under him, 308,000 people died because they didn't have proper health care. And people are actually very happy about what's going on because our businesses are doing well. But a lot of people agree with me, many people. These people aren't equipped to handle it, number one.\n",
            "Cluster:  8\n",
            "I have a lot of time after the election, as you know. The only difference is they'd try and do it faster. You want to put a lot of new Supreme Court Justices. Well, I've spoken to the companies and we can have it a lot sooner. And by the way, now it's being built again and it's going up fast. We've learned a lot, but he wants to shut it down. We use airports and hangers and we have a lot of people- Much faster. All you had to do is turn on the lights and you pick up a lot. I ended it because a lot of people were complaining that they were asked to do things that were absolutely insane. We're planting a billion trees, the Billion Tree Project and it's very exciting for a lot of people. No, but you would take a lot of cars off the market because people would be able to afford a car. You make up a lot- They have mailmen with lots of it.\n",
            "Cluster:  9\n",
            "And by the way, the Democrats, they wouldn't even think about not doing it. He's a racist and he's xenophobic, because you didn't think I should have closed our country. You didn't think we should have closed our country because you thought it was terrible. He didn't think we should close it down and he was wrong. They think they're hurting us by keeping them closed. We've done things that you never even thought of doing. I don't think you have any law enforcement. I think a lot of things do, but I think to an extent, yes. I think to an extent, yes, but I also think we have to do better management of our forest. And I think we're going to do well because people are really happy with the job we've done. I think I'm counting on them to look at the ballots, definitely. But for the ballots, I think so, because what's happening is incredible.\n"
          ],
          "name": "stdout"
        }
      ]
    },
    {
      "cell_type": "code",
      "metadata": {
        "id": "BRzHlBAUhQx2"
      },
      "source": [
        ""
      ],
      "execution_count": null,
      "outputs": []
    }
  ]
}